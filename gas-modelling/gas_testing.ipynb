{
 "cells": [
  {
   "cell_type": "code",
   "execution_count": 586,
   "id": "997109e7",
   "metadata": {},
   "outputs": [],
   "source": [
    "from importlib import reload\n",
    "import gas_utils\n",
    "reload(gas_utils)\n",
    "from gas_utils import *\n"
   ]
  },
  {
   "cell_type": "code",
   "execution_count": 587,
   "id": "b2f8a5b4",
   "metadata": {},
   "outputs": [],
   "source": [
    "\n",
    "A0 = torch.tensor([[1.0]])\n",
    "\n",
    "dq = torch.tensor([50.0])\n",
    "Bd = torch.tensor([[1.0]])\n",
    "\n",
    "sp = torch.tensor([50.0])\n",
    "Bs = torch.tensor([[1.0]])\n",
    "\n",
    "d = torch.ones(A0.shape[1])     # diameters\n",
    "L = 1200.0 * torch.ones(A0.shape[1]) # pipe lengths\n",
    "hR = 50 * torch.ones(A0.shape[1]) # pipe start height\n",
    "hL = torch.zeros(A0.shape[1]) # pipe end height\n",
    "lambda0 = torch.ones(A0.shape[1]) # friction factor of pipes \n"
   ]
  },
  {
   "cell_type": "code",
   "execution_count": 588,
   "id": "774cbfbb",
   "metadata": {},
   "outputs": [],
   "source": [
    "model_params = {\n",
    "    'A0': A0,\n",
    "    'sp' : sp,\n",
    "    'Bs' : Bs,\n",
    "    'dq' : dq,\n",
    "    'Bd' : Bd,\n",
    "    'd': d,\n",
    "    'L': L,\n",
    "    'hR': hR,\n",
    "    'hL': hL,\n",
    "    'a' : 1200.0,\n",
    "    'f' : 0.045,\n",
    "    'T_max' : 1.0, \n",
    "    'Kl_max' : 0.0,\n",
    "    'n_samples' : 1\n",
    "}\n",
    "\n",
    "net_params = {\n",
    "     'K' : 1,\n",
    "     'layer_sizes_trunk' : [1, 42, 42, 42], \n",
    "     'layer_sizes_branch': [1, 42, 42, 42], \n",
    "     'activation' : 'relu',\n",
    "}"
   ]
  },
  {
   "cell_type": "code",
   "execution_count": 589,
   "id": "27684532",
   "metadata": {},
   "outputs": [
    {
     "name": "stdout",
     "output_type": "stream",
     "text": [
      "step       loss       e1          e2\n",
      "100        4.30e+10   4.30e+10   2.12e+03        New Best!\n",
      "200        3.05e+05   3.04e+05   1.33e+03        \n",
      "300        9.86e+02   2.51e+01   9.61e+02        New Best!\n",
      "400        9.10e+02   2.21e+02   6.89e+02        New Best!\n",
      "500        6.59e+02   1.75e+02   4.85e+02        New Best!\n",
      "600        1.23e+03   8.99e+02   3.33e+02        \n",
      "700        3.65e+02   1.41e+02   2.24e+02        New Best!\n",
      "800        2.12e+02   6.67e+01   1.46e+02        New Best!\n",
      "900        2.75e+02   1.83e+02   9.18e+01        \n",
      "1000       9.24e+01   3.65e+01   5.59e+01        New Best!\n",
      "1100       6.93e+01   3.64e+01   3.28e+01        \n",
      "1200       1.96e+01   1.04e+00   1.85e+01        New Best!\n",
      "1300       4.00e+01   3.00e+01   1.00e+01        \n",
      "1400       1.15e+02   1.10e+02   5.21e+00        \n",
      "1500       5.83e+02   5.81e+02   2.58e+00        \n",
      "1600       1.47e+02   1.46e+02   1.22e+00        \n",
      "1700       2.57e+02   2.57e+02   5.49e-01        \n",
      "1800       9.43e+00   9.20e+00   2.34e-01        New Best!\n",
      "1900       4.66e+02   4.66e+02   9.42e-02        \n",
      "2000       1.21e+02   1.21e+02   3.59e-02        \n",
      "2100       3.60e+01   3.60e+01   1.29e-02        \n",
      "2200       8.92e+00   8.92e+00   4.33e-03        \n",
      "2300       3.21e+02   3.21e+02   1.35e-03        \n",
      "2400       9.18e+01   9.18e+01   3.94e-04        \n",
      "2500       2.06e+01   2.06e+01   1.09e-04        \n",
      "2600       7.31e+01   7.31e+01   2.75e-05        \n",
      "2700       1.06e+00   1.06e+00   6.91e-06        \n",
      "2800       8.34e+01   8.34e+01   1.07e-06        \n",
      "2900       9.72e+00   9.72e+00   1.99e-07        \n",
      "3000       1.15e-02   1.15e-02   6.15e-08        New Best!\n",
      "3100       9.72e+00   9.72e+00   2.57e-08        \n",
      "3200       3.61e+00   3.61e+00   1.89e-08        \n",
      "3300       3.79e+01   3.79e+01   2.33e-10        \n",
      "3400       1.98e-02   1.98e-02   5.24e-10        \n",
      "3500       1.33e-01   1.33e-01   9.31e-10        \n",
      "3600       1.98e-02   1.98e-02   5.24e-10        \n",
      "3700       1.86e+00   1.86e+00   2.10e-09        \n",
      "3800       3.71e-01   3.71e-01   7.04e-09        \n",
      "3900       3.79e+01   3.79e+01   1.46e-09        \n",
      "4000       1.92e-02   1.92e-02   1.46e-11        \n",
      "4100       1.92e-02   1.92e-02   0.00e+00        \n",
      "4200       1.92e-02   1.92e-02   0.00e+00        \n",
      "4300       1.92e-02   1.92e-02   0.00e+00        \n",
      "4400       1.92e-02   1.92e-02   0.00e+00        \n",
      "4500       1.33e-01   1.33e-01   1.46e-11        \n",
      "4600       1.92e-02   1.92e-02   1.46e-11        \n",
      "4700       1.92e-02   1.92e-02   1.46e-11        \n",
      "4800       1.92e-02   1.92e-02   1.46e-11        \n",
      "4900       1.33e-01   1.33e-01   5.82e-11        \n",
      "5000       1.92e-02   1.92e-02   1.46e-11        \n",
      "5100       1.92e-02   1.92e-02   1.46e-11        \n",
      "5200       2.70e+00   2.70e+00   1.31e-10        \n",
      "5300       1.31e+00   1.31e+00   5.82e-11        \n",
      "5400       2.80e+06   2.80e+06   1.61e-04        \n",
      "5500       1.03e+06   1.03e+06   7.77e-07        \n",
      "5600       6.69e+01   6.69e+01   1.06e-08        \n",
      "5700       7.19e-01   7.19e-01   5.24e-10        \n",
      "5800       2.76e+00   2.76e+00   1.46e-09        \n",
      "5900       2.38e-02   2.38e-02   2.33e-10        \n",
      "6000       1.48e+08   1.48e+08   6.19e-03        \n",
      "6100       1.36e+03   1.36e+03   3.08e-08        \n",
      "6200       6.01e-01   6.01e-01   3.64e-10        \n",
      "6300       5.31e-01   5.31e-01   1.31e-10        \n",
      "6400       3.19e+05   3.19e+05   1.82e-05        \n",
      "6500       6.52e+05   6.52e+05   3.70e-05        \n",
      "6600       1.48e+00   1.48e+00   1.31e-10        \n",
      "6700       3.23e+00   3.23e+00   5.82e-11        \n",
      "6800       9.19e+04   9.19e+04   5.27e-06        \n",
      "6900       9.27e+05   9.27e+05   5.39e-05        \n",
      "7000       5.40e+01   5.40e+01   4.21e-09        \n",
      "7100       3.09e-02   3.09e-02   2.33e-10        \n",
      "7200       3.54e+07   3.54e+07   2.05e-03        \n",
      "7300       2.19e+04   2.19e+04   1.19e-06        \n",
      "7400       6.89e+00   6.89e+00   5.24e-10        \n",
      "7500       5.71e+00   5.71e+00   5.24e-10        \n",
      "7600       1.37e-02   1.37e-02   5.82e-11        \n",
      "7700       9.83e+01   9.83e+01   5.25e-09        \n",
      "7800       5.51e+07   5.51e+07   3.48e-03        \n",
      "7900       9.74e+02   9.74e+02   5.07e-08        \n",
      "8000       1.97e+00   1.97e+00   5.24e-10        \n",
      "8100       8.75e+07   8.75e+07   5.63e-03        \n",
      "8200       1.86e+02   1.86e+02   1.06e-08        \n",
      "8300       8.50e+00   8.50e+00   2.33e-10        \n",
      "8400       2.28e+08   2.28e+08   1.33e-02        \n",
      "8500       4.41e+04   4.41e+04   2.52e-06        \n",
      "8600       8.43e-03   8.43e-03   1.46e-11        \n",
      "8700       8.43e-03   8.43e-03   5.82e-11        \n",
      "8800       8.43e-03   8.43e-03   5.82e-11        \n",
      "8900       8.43e-03   8.43e-03   5.82e-11        \n",
      "9000       4.25e+08   4.25e+08   2.50e-02        \n",
      "9100       4.35e+06   4.35e+06   2.79e-04        \n",
      "9200       9.44e+01   9.44e+01   7.70e-09        \n",
      "9300       3.44e-02   3.44e-02   5.82e-11        \n",
      "9400       3.44e-02   3.44e-02   0.00e+00        \n",
      "9500       3.44e-02   3.44e-02   0.00e+00        \n",
      "9600       4.73e-01   4.73e-01   5.82e-11        \n",
      "9700       3.44e-02   3.44e-02   0.00e+00        \n",
      "9800       6.70e-01   6.70e-01   1.46e-11        \n",
      "9900       6.73e-01   6.73e-01   1.46e-11        \n",
      "10000      3.44e-02   3.44e-02   1.46e-11        \n",
      "Best loss: tensor(6.1482e-08, grad_fn=<MeanBackward0>)\n"
     ]
    }
   ],
   "source": [
    "model = Model(model_params, net_params)\n",
    "model.train(iterations=10000, print_interval=100)"
   ]
  },
  {
   "cell_type": "code",
   "execution_count": null,
   "id": "181043ec",
   "metadata": {},
   "outputs": [
    {
     "name": "stdout",
     "output_type": "stream",
     "text": [
      "torch.Size([100, 1])\n",
      "torch.Size([1, 1])\n",
      "tensor([[15.0768]], grad_fn=<SelectBackward0>)\n"
     ]
    },
    {
     "data": {
      "text/plain": [
       "[<matplotlib.lines.Line2D at 0x18e776770>]"
      ]
     },
     "execution_count": 590,
     "metadata": {},
     "output_type": "execute_result"
    },
    {
     "data": {
      "image/png": "[encoded data removed]",
      "text/plain": [
       "<Figure size 640x480 with 1 Axes>"
      ]
     },
     "metadata": {},
     "output_type": "display_data"
    }
   ],
   "source": [
    "t = torch.zer(0, 1, 100).reshape(-1, 1)\n",
    "\n",
    "print(t.shape)\n",
    "\n",
    "param = torch.zeros((1, 1))\n",
    "\n",
    "print(param.shape)\n",
    "\n",
    "p = model.pnet(t, param)\n",
    "q = model.qnet(t, param)\n",
    "\n",
    "print(q[-1,...])\n",
    "\n",
    "\n",
    "plt.plot(t, p[:,0,0].detach())\n",
    "plt.plot(t, q[:,0,0].detach())"
   ]
  }
 ],
 "metadata": {
  "kernelspec": {
   "display_name": "df_env",
   "language": "python",
   "name": "python3"
  },
  "language_info": {
   "codemirror_mode": {
    "name": "ipython",
    "version": 3
   },
   "file_extension": ".py",
   "mimetype": "text/x-python",
   "name": "python",
   "nbconvert_exporter": "python",
   "pygments_lexer": "ipython3",
   "version": "3.10.18"
  }
 },
 "nbformat": 4,
 "nbformat_minor": 5
}
