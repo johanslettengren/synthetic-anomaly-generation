{
 "cells": [
  {
   "cell_type": "code",
   "execution_count": 10,
   "id": "997109e7",
   "metadata": {},
   "outputs": [],
   "source": [
    "from importlib import reload\n",
    "import gas_utils\n",
    "reload(gas_utils)\n",
    "from gas_utils import *\n"
   ]
  },
  {
   "cell_type": "code",
   "execution_count": 11,
   "id": "b2f8a5b4",
   "metadata": {},
   "outputs": [],
   "source": [
    "\n",
    "A0 = torch.tensor([[1.0]])\n",
    "\n",
    "dq = torch.tensor([50.0])\n",
    "Bd = torch.tensor([[1.0]])\n",
    "\n",
    "sp = torch.tensor([50.0])\n",
    "Bs = torch.tensor([[1.0]])\n",
    "\n",
    "d = torch.ones(A0.shape[1])     # diameters\n",
    "L = 1200.0 * torch.ones(A0.shape[1]) # pipe lengths\n",
    "hR = 50 * torch.ones(A0.shape[1]) # pipe start height\n",
    "hL = torch.zeros(A0.shape[1]) # pipe end height\n",
    "lambda0 = torch.ones(A0.shape[1]) # friction factor of pipes \n"
   ]
  },
  {
   "cell_type": "code",
   "execution_count": 12,
   "id": "774cbfbb",
   "metadata": {},
   "outputs": [],
   "source": [
    "model_params = {\n",
    "    'A0': A0,\n",
    "    'sp' : sp,\n",
    "    'Bs' : Bs,\n",
    "    'dq' : dq,\n",
    "    'Bd' : Bd,\n",
    "    'd': d,\n",
    "    'L': L,\n",
    "    'hR': hR,\n",
    "    'hL': hL,\n",
    "    'a' : 1200.0,\n",
    "    'f' : 100,\n",
    "    'T_max' : 1.0, \n",
    "    'Kl_max' : 0.001,\n",
    "    'n_samples' : 1\n",
    "}\n",
    "\n",
    "net_params = {\n",
    "     'layer_sizes' : [1, 42, 42, 42], \n",
    "     'activation' : 'relu',\n",
    "}"
   ]
  },
  {
   "cell_type": "code",
   "execution_count": 13,
   "id": "27684532",
   "metadata": {},
   "outputs": [
    {
     "name": "stdout",
     "output_type": "stream",
     "text": [
      "step       loss       e1          e2\n",
      "100        nan        nan        nan             \n",
      "200        nan        nan        nan             \n",
      "300        nan        nan        nan             \n",
      "400        nan        nan        nan             \n",
      "500        nan        nan        nan             \n",
      "600        nan        nan        nan             \n",
      "700        nan        nan        nan             \n",
      "800        nan        nan        nan             \n",
      "900        nan        nan        nan             \n",
      "1000       nan        nan        nan             \n",
      "1100       nan        nan        nan             \n",
      "1200       nan        nan        nan             \n",
      "1300       nan        nan        nan             \n",
      "1400       nan        nan        nan             \n",
      "1500       nan        nan        nan             \n",
      "1600       nan        nan        nan             \n",
      "1700       nan        nan        nan             \n",
      "1800       nan        nan        nan             \n",
      "1900       nan        nan        nan             \n",
      "2000       nan        nan        nan             \n",
      "2100       nan        nan        nan             \n",
      "2200       nan        nan        nan             \n",
      "2300       nan        nan        nan             \n",
      "2400       nan        nan        nan             \n",
      "2500       nan        nan        nan             \n",
      "2600       nan        nan        nan             \n",
      "2700       nan        nan        nan             \n",
      "2800       nan        nan        nan             \n",
      "2900       nan        nan        nan             \n",
      "3000       nan        nan        nan             \n",
      "3100       nan        nan        nan             \n",
      "3200       nan        nan        nan             \n",
      "3300       nan        nan        nan             \n",
      "3400       nan        nan        nan             \n",
      "3500       nan        nan        nan             \n",
      "3600       nan        nan        nan             \n",
      "3700       nan        nan        nan             \n",
      "3800       nan        nan        nan             \n",
      "3900       nan        nan        nan             \n",
      "4000       nan        nan        nan             \n",
      "4100       nan        nan        nan             \n"
     ]
    },
    {
     "ename": "KeyboardInterrupt",
     "evalue": "",
     "output_type": "error",
     "traceback": [
      "\u001b[0;31m---------------------------------------------------------------------------\u001b[0m",
      "\u001b[0;31mKeyboardInterrupt\u001b[0m                         Traceback (most recent call last)",
      "Cell \u001b[0;32mIn[13], line 2\u001b[0m\n\u001b[1;32m      1\u001b[0m model \u001b[38;5;241m=\u001b[39m Model(model_params, net_params)\n\u001b[0;32m----> 2\u001b[0m \u001b[43mmodel\u001b[49m\u001b[38;5;241;43m.\u001b[39;49m\u001b[43mtrain\u001b[49m\u001b[43m(\u001b[49m\u001b[43miterations\u001b[49m\u001b[38;5;241;43m=\u001b[39;49m\u001b[38;5;241;43m100000\u001b[39;49m\u001b[43m,\u001b[49m\u001b[43m \u001b[49m\u001b[43mprint_interval\u001b[49m\u001b[38;5;241;43m=\u001b[39;49m\u001b[38;5;241;43m100\u001b[39;49m\u001b[43m)\u001b[49m\n",
      "File \u001b[0;32m~/Desktop/Digital Futures/synthetic-anomaly-generation/gas-modelling/gas_utils.py:157\u001b[0m, in \u001b[0;36mModel.train\u001b[0;34m(self, iterations, print_interval)\u001b[0m\n\u001b[1;32m    154\u001b[0m p \u001b[38;5;241m=\u001b[39m \u001b[38;5;28mself\u001b[39m\u001b[38;5;241m.\u001b[39mKl_max \u001b[38;5;241m*\u001b[39m torch\u001b[38;5;241m.\u001b[39mrand((\u001b[38;5;28mself\u001b[39m\u001b[38;5;241m.\u001b[39mn_samples, \u001b[38;5;241m1\u001b[39m))\n\u001b[1;32m    156\u001b[0m \u001b[38;5;28mself\u001b[39m\u001b[38;5;241m.\u001b[39moptimizer\u001b[38;5;241m.\u001b[39mzero_grad()\n\u001b[0;32m--> 157\u001b[0m e1, e2 \u001b[38;5;241m=\u001b[39m \u001b[38;5;28;43mself\u001b[39;49m\u001b[38;5;241;43m.\u001b[39;49m\u001b[43mloss\u001b[49m\u001b[43m(\u001b[49m\u001b[43mp\u001b[49m\u001b[43m)\u001b[49m\n\u001b[1;32m    159\u001b[0m \u001b[38;5;28;01mif\u001b[39;00m \u001b[38;5;28miter\u001b[39m \u001b[38;5;241m%\u001b[39m \u001b[38;5;241m2\u001b[39m \u001b[38;5;241m==\u001b[39m \u001b[38;5;241m0\u001b[39m:\n\u001b[1;32m    160\u001b[0m     loss \u001b[38;5;241m=\u001b[39m e1\n",
      "File \u001b[0;32m~/Desktop/Digital Futures/synthetic-anomaly-generation/gas-modelling/gas_utils.py:126\u001b[0m, in \u001b[0;36mModel.endpoint_loss\u001b[0;34m(self, param)\u001b[0m\n\u001b[1;32m    124\u001b[0m \u001b[38;5;28;01mdef\u001b[39;00m\u001b[38;5;250m \u001b[39m\u001b[38;5;21mendpoint_loss\u001b[39m(\u001b[38;5;28mself\u001b[39m, param):\n\u001b[0;32m--> 126\u001b[0m     p \u001b[38;5;241m=\u001b[39m \u001b[38;5;28;43mself\u001b[39;49m\u001b[38;5;241;43m.\u001b[39;49m\u001b[43mpnet\u001b[49m\u001b[43m(\u001b[49m\u001b[43mparam\u001b[49m\u001b[43m)\u001b[49m\n\u001b[1;32m    127\u001b[0m     q \u001b[38;5;241m=\u001b[39m \u001b[38;5;28mself\u001b[39m\u001b[38;5;241m.\u001b[39mqnet(param)\n\u001b[1;32m    129\u001b[0m     \u001b[38;5;66;03m# pdot = self.pnet.derivative(param)\u001b[39;00m\n\u001b[1;32m    130\u001b[0m     \u001b[38;5;66;03m# qdot = self.qnet.derivative(param)\u001b[39;00m\n\u001b[1;32m    131\u001b[0m             \n\u001b[1;32m    132\u001b[0m     \u001b[38;5;66;03m#t1 = self.mv(self.A0_R, self.L * self.mv(self.A0_R.T, pdot)) \u001b[39;00m\n",
      "File \u001b[0;32m~/miniconda3/envs/df_env/lib/python3.10/site-packages/torch/nn/modules/module.py:1736\u001b[0m, in \u001b[0;36mModule._wrapped_call_impl\u001b[0;34m(self, *args, **kwargs)\u001b[0m\n\u001b[1;32m   1734\u001b[0m     \u001b[38;5;28;01mreturn\u001b[39;00m \u001b[38;5;28mself\u001b[39m\u001b[38;5;241m.\u001b[39m_compiled_call_impl(\u001b[38;5;241m*\u001b[39margs, \u001b[38;5;241m*\u001b[39m\u001b[38;5;241m*\u001b[39mkwargs)  \u001b[38;5;66;03m# type: ignore[misc]\u001b[39;00m\n\u001b[1;32m   1735\u001b[0m \u001b[38;5;28;01melse\u001b[39;00m:\n\u001b[0;32m-> 1736\u001b[0m     \u001b[38;5;28;01mreturn\u001b[39;00m \u001b[38;5;28;43mself\u001b[39;49m\u001b[38;5;241;43m.\u001b[39;49m\u001b[43m_call_impl\u001b[49m\u001b[43m(\u001b[49m\u001b[38;5;241;43m*\u001b[39;49m\u001b[43margs\u001b[49m\u001b[43m,\u001b[49m\u001b[43m \u001b[49m\u001b[38;5;241;43m*\u001b[39;49m\u001b[38;5;241;43m*\u001b[39;49m\u001b[43mkwargs\u001b[49m\u001b[43m)\u001b[49m\n",
      "File \u001b[0;32m~/miniconda3/envs/df_env/lib/python3.10/site-packages/torch/nn/modules/module.py:1747\u001b[0m, in \u001b[0;36mModule._call_impl\u001b[0;34m(self, *args, **kwargs)\u001b[0m\n\u001b[1;32m   1742\u001b[0m \u001b[38;5;66;03m# If we don't have any hooks, we want to skip the rest of the logic in\u001b[39;00m\n\u001b[1;32m   1743\u001b[0m \u001b[38;5;66;03m# this function, and just call forward.\u001b[39;00m\n\u001b[1;32m   1744\u001b[0m \u001b[38;5;28;01mif\u001b[39;00m \u001b[38;5;129;01mnot\u001b[39;00m (\u001b[38;5;28mself\u001b[39m\u001b[38;5;241m.\u001b[39m_backward_hooks \u001b[38;5;129;01mor\u001b[39;00m \u001b[38;5;28mself\u001b[39m\u001b[38;5;241m.\u001b[39m_backward_pre_hooks \u001b[38;5;129;01mor\u001b[39;00m \u001b[38;5;28mself\u001b[39m\u001b[38;5;241m.\u001b[39m_forward_hooks \u001b[38;5;129;01mor\u001b[39;00m \u001b[38;5;28mself\u001b[39m\u001b[38;5;241m.\u001b[39m_forward_pre_hooks\n\u001b[1;32m   1745\u001b[0m         \u001b[38;5;129;01mor\u001b[39;00m _global_backward_pre_hooks \u001b[38;5;129;01mor\u001b[39;00m _global_backward_hooks\n\u001b[1;32m   1746\u001b[0m         \u001b[38;5;129;01mor\u001b[39;00m _global_forward_hooks \u001b[38;5;129;01mor\u001b[39;00m _global_forward_pre_hooks):\n\u001b[0;32m-> 1747\u001b[0m     \u001b[38;5;28;01mreturn\u001b[39;00m \u001b[43mforward_call\u001b[49m\u001b[43m(\u001b[49m\u001b[38;5;241;43m*\u001b[39;49m\u001b[43margs\u001b[49m\u001b[43m,\u001b[49m\u001b[43m \u001b[49m\u001b[38;5;241;43m*\u001b[39;49m\u001b[38;5;241;43m*\u001b[39;49m\u001b[43mkwargs\u001b[49m\u001b[43m)\u001b[49m\n\u001b[1;32m   1749\u001b[0m result \u001b[38;5;241m=\u001b[39m \u001b[38;5;28;01mNone\u001b[39;00m\n\u001b[1;32m   1750\u001b[0m called_always_called_hooks \u001b[38;5;241m=\u001b[39m \u001b[38;5;28mset\u001b[39m()\n",
      "File \u001b[0;32m~/Desktop/Digital Futures/synthetic-anomaly-generation/gas-modelling/gas_utils.py:38\u001b[0m, in \u001b[0;36mNet.forward\u001b[0;34m(self, x)\u001b[0m\n\u001b[1;32m     35\u001b[0m \u001b[38;5;28;01mdef\u001b[39;00m\u001b[38;5;250m \u001b[39m\u001b[38;5;21mforward\u001b[39m(\u001b[38;5;28mself\u001b[39m, x):\n\u001b[1;32m     37\u001b[0m     \u001b[38;5;28;01mfor\u001b[39;00m linear \u001b[38;5;129;01min\u001b[39;00m \u001b[38;5;28mself\u001b[39m\u001b[38;5;241m.\u001b[39mlinears[:\u001b[38;5;241m-\u001b[39m\u001b[38;5;241m1\u001b[39m]:\n\u001b[0;32m---> 38\u001b[0m         x \u001b[38;5;241m=\u001b[39m \u001b[38;5;28;43mself\u001b[39;49m\u001b[38;5;241;43m.\u001b[39;49m\u001b[43mactivation\u001b[49m\u001b[43m(\u001b[49m\u001b[43mlinear\u001b[49m\u001b[43m(\u001b[49m\u001b[43mx\u001b[49m\u001b[43m)\u001b[49m\u001b[43m)\u001b[49m\n\u001b[1;32m     39\u001b[0m     x \u001b[38;5;241m=\u001b[39m \u001b[38;5;28mself\u001b[39m\u001b[38;5;241m.\u001b[39mlinears[\u001b[38;5;241m-\u001b[39m\u001b[38;5;241m1\u001b[39m](x)\n\u001b[1;32m     41\u001b[0m     \u001b[38;5;28;01mif\u001b[39;00m \u001b[38;5;28mself\u001b[39m\u001b[38;5;241m.\u001b[39mpositive:\n",
      "File \u001b[0;32m~/miniconda3/envs/df_env/lib/python3.10/site-packages/torch/nn/modules/module.py:1736\u001b[0m, in \u001b[0;36mModule._wrapped_call_impl\u001b[0;34m(self, *args, **kwargs)\u001b[0m\n\u001b[1;32m   1734\u001b[0m     \u001b[38;5;28;01mreturn\u001b[39;00m \u001b[38;5;28mself\u001b[39m\u001b[38;5;241m.\u001b[39m_compiled_call_impl(\u001b[38;5;241m*\u001b[39margs, \u001b[38;5;241m*\u001b[39m\u001b[38;5;241m*\u001b[39mkwargs)  \u001b[38;5;66;03m# type: ignore[misc]\u001b[39;00m\n\u001b[1;32m   1735\u001b[0m \u001b[38;5;28;01melse\u001b[39;00m:\n\u001b[0;32m-> 1736\u001b[0m     \u001b[38;5;28;01mreturn\u001b[39;00m \u001b[38;5;28;43mself\u001b[39;49m\u001b[38;5;241;43m.\u001b[39;49m\u001b[43m_call_impl\u001b[49m\u001b[43m(\u001b[49m\u001b[38;5;241;43m*\u001b[39;49m\u001b[43margs\u001b[49m\u001b[43m,\u001b[49m\u001b[43m \u001b[49m\u001b[38;5;241;43m*\u001b[39;49m\u001b[38;5;241;43m*\u001b[39;49m\u001b[43mkwargs\u001b[49m\u001b[43m)\u001b[49m\n",
      "File \u001b[0;32m~/miniconda3/envs/df_env/lib/python3.10/site-packages/torch/nn/modules/module.py:1740\u001b[0m, in \u001b[0;36mModule._call_impl\u001b[0;34m(self, *args, **kwargs)\u001b[0m\n\u001b[1;32m   1736\u001b[0m         \u001b[38;5;28;01mreturn\u001b[39;00m \u001b[38;5;28mself\u001b[39m\u001b[38;5;241m.\u001b[39m_call_impl(\u001b[38;5;241m*\u001b[39margs, \u001b[38;5;241m*\u001b[39m\u001b[38;5;241m*\u001b[39mkwargs)\n\u001b[1;32m   1738\u001b[0m \u001b[38;5;66;03m# torchrec tests the code consistency with the following code\u001b[39;00m\n\u001b[1;32m   1739\u001b[0m \u001b[38;5;66;03m# fmt: off\u001b[39;00m\n\u001b[0;32m-> 1740\u001b[0m \u001b[38;5;28;01mdef\u001b[39;00m\u001b[38;5;250m \u001b[39m\u001b[38;5;21m_call_impl\u001b[39m(\u001b[38;5;28mself\u001b[39m, \u001b[38;5;241m*\u001b[39margs, \u001b[38;5;241m*\u001b[39m\u001b[38;5;241m*\u001b[39mkwargs):\n\u001b[1;32m   1741\u001b[0m     forward_call \u001b[38;5;241m=\u001b[39m (\u001b[38;5;28mself\u001b[39m\u001b[38;5;241m.\u001b[39m_slow_forward \u001b[38;5;28;01mif\u001b[39;00m torch\u001b[38;5;241m.\u001b[39m_C\u001b[38;5;241m.\u001b[39m_get_tracing_state() \u001b[38;5;28;01melse\u001b[39;00m \u001b[38;5;28mself\u001b[39m\u001b[38;5;241m.\u001b[39mforward)\n\u001b[1;32m   1742\u001b[0m     \u001b[38;5;66;03m# If we don't have any hooks, we want to skip the rest of the logic in\u001b[39;00m\n\u001b[1;32m   1743\u001b[0m     \u001b[38;5;66;03m# this function, and just call forward.\u001b[39;00m\n",
      "\u001b[0;31mKeyboardInterrupt\u001b[0m: "
     ]
    }
   ],
   "source": [
    "model = Model(model_params, net_params)\n",
    "model.train(iterations=100000, print_interval=100)"
   ]
  },
  {
   "cell_type": "code",
   "execution_count": null,
   "id": "181043ec",
   "metadata": {},
   "outputs": [
    {
     "name": "stdout",
     "output_type": "stream",
     "text": [
      "tensor([49.9495], grad_fn=<SelectBackward0>)\n",
      "tensor([17.3718], grad_fn=<SelectBackward0>)\n"
     ]
    }
   ],
   "source": [
    "\n",
    "\n",
    "param = torch.zeros((1, 1))\n",
    "\n",
    "\n",
    "p = model.pnet(param)\n",
    "q = model.qnet(param)\n",
    "\n",
    "print(q[-1,...])\n",
    "print(p[-1,...])"
   ]
  }
 ],
 "metadata": {
  "kernelspec": {
   "display_name": "df_env",
   "language": "python",
   "name": "python3"
  },
  "language_info": {
   "codemirror_mode": {
    "name": "ipython",
    "version": 3
   },
   "file_extension": ".py",
   "mimetype": "text/x-python",
   "name": "python",
   "nbconvert_exporter": "python",
   "pygments_lexer": "ipython3",
   "version": "3.10.18"
  }
 },
 "nbformat": 4,
 "nbformat_minor": 5
}
