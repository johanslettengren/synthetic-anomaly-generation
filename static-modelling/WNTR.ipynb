{
 "cells": [
  {
   "cell_type": "code",
   "execution_count": 2230,
   "id": "4b83ecb0",
   "metadata": {},
   "outputs": [],
   "source": [
    "from importlib import reload\n",
    "import static_model\n",
    "reload(static_model)\n",
    "from static_model import *"
   ]
  },
  {
   "cell_type": "code",
   "execution_count": 2231,
   "id": "57ddc329",
   "metadata": {},
   "outputs": [],
   "source": [
    "import networkx as nx\n",
    "import numpy as np\n",
    "import torch"
   ]
  },
  {
   "cell_type": "code",
   "execution_count": null,
   "id": "5b967637",
   "metadata": {},
   "outputs": [
    {
     "data": {
      "text/html": [
       "<div>\n",
       "<style scoped>\n",
       "    .dataframe tbody tr th:only-of-type {\n",
       "        vertical-align: middle;\n",
       "    }\n",
       "\n",
       "    .dataframe tbody tr th {\n",
       "        vertical-align: top;\n",
       "    }\n",
       "\n",
       "    .dataframe thead th {\n",
       "        text-align: right;\n",
       "    }\n",
       "</style>\n",
       "<table border=\"1\" class=\"dataframe\">\n",
       "  <thead>\n",
       "    <tr style=\"text-align: right;\">\n",
       "      <th></th>\n",
       "      <th>Leak Area (m²)</th>\n",
       "      <th>Pressure at JUNCTION-0 (m)</th>\n",
       "    </tr>\n",
       "  </thead>\n",
       "  <tbody>\n",
       "    <tr>\n",
       "      <th>0</th>\n",
       "      <td>0.000000</td>\n",
       "      <td>49.990143</td>\n",
       "    </tr>\n",
       "    <tr>\n",
       "      <th>1</th>\n",
       "      <td>0.000491</td>\n",
       "      <td>49.985525</td>\n",
       "    </tr>\n",
       "    <tr>\n",
       "      <th>2</th>\n",
       "      <td>0.001963</td>\n",
       "      <td>49.966939</td>\n",
       "    </tr>\n",
       "  </tbody>\n",
       "</table>\n",
       "</div>"
      ],
      "text/plain": [
       "   Leak Area (m²)  Pressure at JUNCTION-0 (m)\n",
       "0        0.000000                   49.990143\n",
       "1        0.000491                   49.985525\n",
       "2        0.001963                   49.966939"
      ]
     },
     "metadata": {},
     "output_type": "display_data"
    },
    {
     "data": {
      "text/html": [
       "<div>\n",
       "<style scoped>\n",
       "    .dataframe tbody tr th:only-of-type {\n",
       "        vertical-align: middle;\n",
       "    }\n",
       "\n",
       "    .dataframe tbody tr th {\n",
       "        vertical-align: top;\n",
       "    }\n",
       "\n",
       "    .dataframe thead th {\n",
       "        text-align: right;\n",
       "    }\n",
       "</style>\n",
       "<table border=\"1\" class=\"dataframe\">\n",
       "  <thead>\n",
       "    <tr style=\"text-align: right;\">\n",
       "      <th></th>\n",
       "      <th>Leak Area (m²)</th>\n",
       "      <th>Flowrate at Reservoir (m³/s)</th>\n",
       "    </tr>\n",
       "  </thead>\n",
       "  <tbody>\n",
       "    <tr>\n",
       "      <th>0</th>\n",
       "      <td>0.000000</td>\n",
       "      <td>0.050000</td>\n",
       "    </tr>\n",
       "    <tr>\n",
       "      <th>1</th>\n",
       "      <td>0.000491</td>\n",
       "      <td>0.061529</td>\n",
       "    </tr>\n",
       "    <tr>\n",
       "      <th>2</th>\n",
       "      <td>0.001963</td>\n",
       "      <td>0.096109</td>\n",
       "    </tr>\n",
       "  </tbody>\n",
       "</table>\n",
       "</div>"
      ],
      "text/plain": [
       "   Leak Area (m²)  Flowrate at Reservoir (m³/s)\n",
       "0        0.000000                      0.050000\n",
       "1        0.000491                      0.061529\n",
       "2        0.001963                      0.096109"
      ]
     },
     "metadata": {},
     "output_type": "display_data"
    }
   ],
   "source": [
    "import wntr\n",
    "import pandas as pd\n",
    "import numpy as np\n",
    "\n",
    "n_samples = 10\n",
    "\n",
    "inp_file = 'network_file.inp'\n",
    "\n",
    "# Fixed discharge coefficient for turbulent leaks\n",
    "Cd = 0.75  \n",
    "\n",
    "A_max = 0.05\n",
    "# Leak areas from no leak to large leak\n",
    "leak_ratio = np.linspace(0, A_max, n_samples)\n",
    "leak_areas = 3.14159*(leak_ratio/2)**2\n",
    "\n",
    "# This should match your reservoir pipe ID\n",
    "reservoir_pipe_id = 'RESERVOIR'  # <-- change to your actual reservoir pipe name\n",
    "\n",
    "results_list = []\n",
    "flow_list = []\n",
    "\n",
    "for area in leak_areas:\n",
    "    emitter_coeff = Cd * np.sqrt(area)\n",
    "    \n",
    "    wn = wntr.network.WaterNetworkModel(inp_file)\n",
    "    junction = wn.get_node('JUNCTION-0')\n",
    "    junction.add_leak(wn, area=area, discharge_coeff=0.75, start_time=0)\n",
    "    \n",
    "\n",
    "    sim = wntr.sim.WNTRSimulator(wn)\n",
    "    results = sim.run_sim()\n",
    "\n",
    "    pressure = results.node['pressure'].iloc[0]\n",
    "    flow = results.link['flowrate'].iloc[0]\n",
    "        \n",
    "    \n",
    "    #print(f\"Leak Area: {area:.5f} m² --> Pressure: {pressure['JUNCTION-0']:.2f} m\")\n",
    "\n",
    "    # Store only the pressure at JUNCTION-0\n",
    "    pressure_df = pd.DataFrame({\n",
    "        'Leak Area (m²)': [area],\n",
    "        'Pressure at JUNCTION-0 (m)': [pressure['JUNCTION-0']]\n",
    "    })\n",
    "    results_list.append(pressure_df)\n",
    "    # Store only the flow through the reservoir pipe\n",
    "    flow_df = pd.DataFrame({\n",
    "        'Leak Area (m²)': [area],\n",
    "        'Flowrate at Reservoir (m³/s)': flow.values\n",
    "    })\n",
    "    flow_list.append(flow_df)\n",
    "\n",
    "# Combine results\n",
    "pressures = pd.concat(results_list, ignore_index=True)\n",
    "flows = pd.concat(flow_list, ignore_index=True)\n",
    "\n",
    "display(pressures)\n",
    "display(flows)\n"
   ]
  },
  {
   "cell_type": "code",
   "execution_count": 2233,
   "id": "0ba8f2df",
   "metadata": {},
   "outputs": [
    {
     "data": {
      "image/png": "[encoded data removed]",
      "text/plain": [
       "<Figure size 800x600 with 1 Axes>"
      ]
     },
     "metadata": {},
     "output_type": "display_data"
    }
   ],
   "source": [
    "from wntr.graphics import plot_network\n",
    "import matplotlib.pyplot as plt\n",
    "\n",
    "# Plot just the structure of the network\n",
    "fig, ax = plt.subplots(figsize=(8, 6))\n",
    "plot_network(wn, node_labels=True, link_labels=True, ax=ax)\n",
    "plt.show()"
   ]
  },
  {
   "cell_type": "code",
   "execution_count": 2234,
   "id": "dd4ed1f0",
   "metadata": {},
   "outputs": [],
   "source": [
    "G = wn.to_graph()\n",
    "A = nx.incidence_matrix(G)\n",
    "reservoirs = list(wn.reservoir_name_list)\n",
    "# Get all node names (junctions, tanks, reservoirs)\n",
    "all_nodes = list(G.nodes())\n",
    "\n",
    "# Filter out reservoirs\n",
    "non_reservoir_nodes = [n for n in all_nodes if n not in reservoirs]\n",
    "\n",
    "idx = [i for i, n in enumerate(all_nodes) if n not in reservoirs]\n",
    "\n",
    "# Get adjacency matrix using filtered nodelist\n",
    "A  = nx.incidence_matrix(G)\n",
    "A0 = torch.tensor(A[idx,:].toarray(), dtype=torch.float32)\n",
    "\n"
   ]
  },
  {
   "cell_type": "code",
   "execution_count": 2235,
   "id": "3200a02a",
   "metadata": {},
   "outputs": [],
   "source": [
    "from scipy.sparse import dok_matrix\n",
    "\n",
    "edgelist = list(G.edges())\n",
    "supply_nodes = wn.reservoir_name_list  # or include tanks if needed\n",
    "supply_nodes = list(supply_nodes)  # Ensure it's ordered\n",
    "\n",
    "# Create edge-to-start-node mapping\n",
    "edge_start_nodes = [edge[0] for edge in edgelist]\n",
    "\n",
    "# Create B matrix (|E| x |supply_nodes|), sparse\n",
    "B = dok_matrix((len(edgelist), len(supply_nodes)), dtype=int)\n",
    "\n",
    "for i, (start_node) in enumerate(edge_start_nodes):\n",
    "    if start_node in supply_nodes:\n",
    "        j = supply_nodes.index(start_node)\n",
    "        B[i, j] = 1\n",
    "\n",
    "# Convert to CSR format for efficient arithmetic\n",
    "B = torch.tensor(B.toarray(), dtype=torch.float32)"
   ]
  },
  {
   "cell_type": "code",
   "execution_count": 2236,
   "id": "5c96cda7",
   "metadata": {},
   "outputs": [
    {
     "name": "stdout",
     "output_type": "stream",
     "text": [
      "tensor([0.0500])\n"
     ]
    }
   ],
   "source": [
    "junctions = wn.junction_name_list  # Only junctions have demand\n",
    "\n",
    "# Get base demands at each junction\n",
    "D_values = []\n",
    "for name in junctions:\n",
    "    junction = wn.get_node(name)\n",
    "    demand = junction.base_demand  # in m³/s\n",
    "    D_values.append(demand)\n",
    "\n",
    "# D is a NumPy array aligned with junction_name_list\n",
    "D = torch.tensor(D_values, dtype=torch.float32)\n",
    "print(D)"
   ]
  },
  {
   "cell_type": "code",
   "execution_count": 2237,
   "id": "7ce2850b",
   "metadata": {},
   "outputs": [
    {
     "name": "stdout",
     "output_type": "stream",
     "text": [
      "tensor([50.])\n"
     ]
    }
   ],
   "source": [
    "# Get supply node names\n",
    "supply_nodes = wn.reservoir_name_list  # Or include tanks if needed\n",
    "\n",
    "# Get heads at each supply node\n",
    "S_values = []\n",
    "for name in supply_nodes:\n",
    "    reservoir = wn.get_node(name)\n",
    "    head = reservoir.base_head  # This is constant in steady state\n",
    "    S_values.append(head)\n",
    "\n",
    "S = torch.tensor(S_values, dtype=torch.float32)\n",
    "print(S)\n"
   ]
  },
  {
   "cell_type": "code",
   "execution_count": 2238,
   "id": "17dcb4bc",
   "metadata": {},
   "outputs": [
    {
     "name": "stdout",
     "output_type": "stream",
     "text": [
      "tensor([100.])\n"
     ]
    }
   ],
   "source": [
    "pipe_names = wn.pipe_name_list  # List of all pipe IDs\n",
    "\n",
    "# Get length of each pipe (in meters)\n",
    "L = torch.tensor([wn.get_link(name).length for name in pipe_names], dtype=torch.float32)\n",
    "\n",
    "# Get diameter of each pipe (in meters)\n",
    "d = torch.tensor([wn.get_link(name).diameter for name in pipe_names], dtype=torch.float32)\n",
    "\n",
    "# Get Hazen-Williams roughness coefficients (unitless)\n",
    "C = torch.tensor([wn.get_link(name).roughness for name in pipe_names], dtype=torch.float32)\n",
    "\n",
    "print(C)"
   ]
  },
  {
   "cell_type": "code",
   "execution_count": 2239,
   "id": "e1c925d2",
   "metadata": {},
   "outputs": [],
   "source": [
    "model_params = {\n",
    "    'A0': A0,\n",
    "    'B' : B,\n",
    "    'A_max' : leak_areas.max(),\n",
    "    'S' : S,\n",
    "    'D' : D,\n",
    "    'd': d,\n",
    "    'L': L,\n",
    "    'Cd' : 0.75, \n",
    "    'C' : C,\n",
    "    'rho' : 1000.0,\n",
    "    'n_samples' : 10\n",
    "}\n",
    "\n",
    "net_params = {\n",
    "        'depth' : 3,\n",
    "        'layer_sizes' : [42,42,42,1], \n",
    "        'activation' : 'relu',\n",
    "}\n"
   ]
  },
  {
   "cell_type": "code",
   "execution_count": 2240,
   "id": "49fc62fa",
   "metadata": {},
   "outputs": [
    {
     "name": "stdout",
     "output_type": "stream",
     "text": [
      "step       loss       e1          e2\n",
      "1000       1.40e-02   2.17e-03   1.18e-02        New Best!\n",
      "2000       5.95e-03   2.09e-03   3.86e-03        New Best!\n",
      "3000       3.48e-03   2.14e-03   1.34e-03        New Best!\n",
      "4000       2.39e-01   1.73e-01   6.58e-02        \n",
      "5000       2.24e-03   2.19e-03   4.98e-05        New Best!\n",
      "6000       2.21e-03   2.20e-03   1.37e-05        New Best!\n",
      "7000       2.21e-03   2.21e-03   1.93e-06        New Best!\n",
      "8000       2.21e-03   2.21e-03   1.42e-06        New Best!\n",
      "9000       2.21e-03   2.21e-03   1.64e-06        \n",
      "10000      2.21e-03   2.21e-03   1.65e-06        \n",
      "11000      7.33e-02   1.63e-03   7.16e-02        \n",
      "12000      2.26e-03   2.19e-03   6.96e-05        \n",
      "13000      2.21e-03   2.20e-03   1.03e-05        \n",
      "14000      2.21e-03   2.20e-03   9.13e-06        \n",
      "15000      2.21e-03   2.20e-03   7.63e-06        \n",
      "16000      2.21e-03   2.20e-03   6.76e-06        \n",
      "17000      2.21e-03   2.20e-03   4.54e-06        \n",
      "18000      2.21e-03   2.20e-03   3.85e-06        \n",
      "19000      2.21e-03   2.20e-03   3.27e-06        \n",
      "20000      2.21e-03   2.20e-03   2.60e-06        \n",
      "21000      2.21e-03   2.21e-03   1.97e-06        \n",
      "22000      2.21e-03   2.21e-03   1.48e-06        New Best!\n",
      "23000      2.21e-03   2.21e-03   1.14e-06        \n",
      "24000      2.21e-03   2.21e-03   1.22e-06        New Best!\n",
      "25000      2.21e-03   2.21e-03   1.22e-06        New Best!\n",
      "26000      5.00e-02   1.92e-03   4.81e-02        \n",
      "27000      2.21e-03   2.21e-03   1.30e-06        New Best!\n",
      "28000      2.21e-03   2.21e-03   1.22e-06        New Best!\n",
      "29000      2.21e-03   2.21e-03   1.22e-06        New Best!\n",
      "30000      2.21e-03   2.21e-03   1.22e-06        New Best!\n",
      "31000      2.21e-03   2.21e-03   1.22e-06        New Best!\n",
      "32000      2.21e-03   2.21e-03   1.22e-06        New Best!\n",
      "33000      2.21e-03   2.21e-03   1.22e-06        New Best!\n",
      "34000      2.21e-03   2.21e-03   1.22e-06        New Best!\n",
      "35000      2.21e-03   2.21e-03   1.22e-06        New Best!\n",
      "36000      2.21e-03   2.21e-03   1.22e-06        \n",
      "37000      2.21e-03   2.21e-03   1.22e-06        New Best!\n",
      "38000      2.21e-03   2.21e-03   1.22e-06        New Best!\n",
      "39000      2.21e-03   2.21e-03   1.22e-06        New Best!\n",
      "40000      2.21e-03   2.21e-03   1.22e-06        New Best!\n",
      "41000      2.21e-03   2.21e-03   1.20e-06        \n",
      "42000      2.21e-03   2.20e-03   1.30e-06        New Best!\n",
      "43000      2.21e-03   2.20e-03   1.39e-06        New Best!\n",
      "44000      2.21e-03   2.20e-03   1.39e-06        \n",
      "45000      2.21e-03   2.20e-03   1.39e-06        New Best!\n",
      "46000      2.21e-03   2.20e-03   1.39e-06        New Best!\n",
      "47000      2.21e-03   2.20e-03   1.39e-06        New Best!\n",
      "48000      2.21e-03   2.20e-03   1.39e-06        New Best!\n",
      "49000      2.21e-03   2.20e-03   1.40e-06        New Best!\n",
      "50000      2.21e-03   2.20e-03   1.40e-06        \n",
      "51000      2.21e-03   2.20e-03   1.40e-06        New Best!\n",
      "52000      2.21e-03   2.20e-03   1.40e-06        New Best!\n",
      "53000      2.21e-03   2.20e-03   1.40e-06        New Best!\n",
      "54000      2.21e-03   2.20e-03   1.33e-06        \n",
      "55000      2.21e-03   2.20e-03   1.42e-06        New Best!\n",
      "56000      2.21e-03   2.20e-03   1.92e-06        New Best!\n",
      "57000      2.21e-03   2.20e-03   1.85e-06        New Best!\n",
      "58000      2.21e-03   2.20e-03   1.78e-06        New Best!\n",
      "59000      2.21e-03   2.20e-03   1.69e-06        New Best!\n",
      "60000      2.21e-03   2.20e-03   1.64e-06        New Best!\n",
      "61000      2.21e-03   2.20e-03   1.61e-06        New Best!\n",
      "62000      2.21e-03   2.20e-03   1.61e-06        New Best!\n",
      "63000      2.21e-03   2.20e-03   1.56e-06        New Best!\n",
      "64000      2.58e-03   2.26e-03   3.18e-04        \n",
      "65000      2.21e-03   2.21e-03   1.59e-06        \n",
      "66000      2.21e-03   2.21e-03   1.50e-06        \n",
      "67000      2.21e-03   2.20e-03   1.49e-06        \n",
      "68000      2.21e-03   2.20e-03   1.50e-06        \n",
      "69000      2.21e-03   2.20e-03   1.51e-06        \n",
      "70000      2.21e-03   2.20e-03   1.54e-06        \n",
      "71000      2.21e-03   2.20e-03   1.59e-06        New Best!\n",
      "72000      2.21e-03   2.20e-03   1.68e-06        New Best!\n",
      "73000      2.21e-03   2.20e-03   1.66e-06        \n",
      "74000      2.21e-03   2.20e-03   1.66e-06        \n"
     ]
    },
    {
     "ename": "KeyboardInterrupt",
     "evalue": "",
     "output_type": "error",
     "traceback": [
      "\u001b[0;31m---------------------------------------------------------------------------\u001b[0m",
      "\u001b[0;31mKeyboardInterrupt\u001b[0m                         Traceback (most recent call last)",
      "Cell \u001b[0;32mIn[2240], line 2\u001b[0m\n\u001b[1;32m      1\u001b[0m model \u001b[38;5;241m=\u001b[39m Model(model_params, net_params)\n\u001b[0;32m----> 2\u001b[0m \u001b[43mmodel\u001b[49m\u001b[38;5;241;43m.\u001b[39;49m\u001b[43mtrain\u001b[49m\u001b[43m(\u001b[49m\u001b[43miterations\u001b[49m\u001b[38;5;241;43m=\u001b[39;49m\u001b[38;5;241;43m100000\u001b[39;49m\u001b[43m,\u001b[49m\u001b[43m \u001b[49m\u001b[43mprint_interval\u001b[49m\u001b[38;5;241;43m=\u001b[39;49m\u001b[38;5;241;43m1000\u001b[39;49m\u001b[43m)\u001b[49m\n",
      "File \u001b[0;32m~/Desktop/Digital Futures/synthetic-anomaly-generation/static-modelling/static_model.py:172\u001b[0m, in \u001b[0;36mModel.train\u001b[0;34m(self, iterations, print_interval)\u001b[0m\n\u001b[1;32m    169\u001b[0m loss \u001b[38;5;241m=\u001b[39m e1 \u001b[38;5;241m+\u001b[39m e2\n\u001b[1;32m    171\u001b[0m vloss \u001b[38;5;241m=\u001b[39m e1 \u001b[38;5;241m+\u001b[39m e2\n\u001b[0;32m--> 172\u001b[0m \u001b[43mloss\u001b[49m\u001b[38;5;241;43m.\u001b[39;49m\u001b[43mbackward\u001b[49m\u001b[43m(\u001b[49m\u001b[43m)\u001b[49m\n\u001b[1;32m    173\u001b[0m \u001b[38;5;28mself\u001b[39m\u001b[38;5;241m.\u001b[39moptimizer\u001b[38;5;241m.\u001b[39mstep()\n\u001b[1;32m    175\u001b[0m announce \u001b[38;5;241m=\u001b[39m \u001b[38;5;124m'\u001b[39m\u001b[38;5;124m'\u001b[39m\n",
      "File \u001b[0;32m~/miniconda3/envs/df_env/lib/python3.10/site-packages/torch/_tensor.py:525\u001b[0m, in \u001b[0;36mTensor.backward\u001b[0;34m(self, gradient, retain_graph, create_graph, inputs)\u001b[0m\n\u001b[1;32m    522\u001b[0m     \u001b[38;5;66;03m# All strings are unicode in Python 3.\u001b[39;00m\n\u001b[1;32m    523\u001b[0m     \u001b[38;5;28;01mreturn\u001b[39;00m torch\u001b[38;5;241m.\u001b[39m_tensor_str\u001b[38;5;241m.\u001b[39m_str(\u001b[38;5;28mself\u001b[39m, tensor_contents\u001b[38;5;241m=\u001b[39mtensor_contents)\n\u001b[0;32m--> 525\u001b[0m \u001b[38;5;28;01mdef\u001b[39;00m\u001b[38;5;250m \u001b[39m\u001b[38;5;21mbackward\u001b[39m(\n\u001b[1;32m    526\u001b[0m     \u001b[38;5;28mself\u001b[39m, gradient\u001b[38;5;241m=\u001b[39m\u001b[38;5;28;01mNone\u001b[39;00m, retain_graph\u001b[38;5;241m=\u001b[39m\u001b[38;5;28;01mNone\u001b[39;00m, create_graph\u001b[38;5;241m=\u001b[39m\u001b[38;5;28;01mFalse\u001b[39;00m, inputs\u001b[38;5;241m=\u001b[39m\u001b[38;5;28;01mNone\u001b[39;00m\n\u001b[1;32m    527\u001b[0m ):\n\u001b[1;32m    528\u001b[0m \u001b[38;5;250m    \u001b[39m\u001b[38;5;124mr\u001b[39m\u001b[38;5;124;03m\"\"\"Computes the gradient of current tensor wrt graph leaves.\u001b[39;00m\n\u001b[1;32m    529\u001b[0m \n\u001b[1;32m    530\u001b[0m \u001b[38;5;124;03m    The graph is differentiated using the chain rule. If the tensor is\u001b[39;00m\n\u001b[0;32m   (...)\u001b[0m\n\u001b[1;32m    569\u001b[0m \u001b[38;5;124;03m            used to compute the :attr:`tensors`.\u001b[39;00m\n\u001b[1;32m    570\u001b[0m \u001b[38;5;124;03m    \"\"\"\u001b[39;00m\n\u001b[1;32m    571\u001b[0m     \u001b[38;5;28;01mif\u001b[39;00m has_torch_function_unary(\u001b[38;5;28mself\u001b[39m):\n",
      "\u001b[0;31mKeyboardInterrupt\u001b[0m: "
     ]
    }
   ],
   "source": [
    "model = Model(model_params, net_params)\n",
    "model.train(iterations=100000, print_interval=1000)"
   ]
  },
  {
   "cell_type": "code",
   "execution_count": 2241,
   "id": "3a96a281",
   "metadata": {},
   "outputs": [
    {
     "name": "stdout",
     "output_type": "stream",
     "text": [
      "\n",
      "=== Final Results (Pressures) with Predictions ===\n"
     ]
    },
    {
     "data": {
      "text/html": [
       "<div>\n",
       "<style scoped>\n",
       "    .dataframe tbody tr th:only-of-type {\n",
       "        vertical-align: middle;\n",
       "    }\n",
       "\n",
       "    .dataframe tbody tr th {\n",
       "        vertical-align: top;\n",
       "    }\n",
       "\n",
       "    .dataframe thead th {\n",
       "        text-align: right;\n",
       "    }\n",
       "</style>\n",
       "<table border=\"1\" class=\"dataframe\">\n",
       "  <thead>\n",
       "    <tr style=\"text-align: right;\">\n",
       "      <th></th>\n",
       "      <th>Leak Area (m²)</th>\n",
       "      <th>Pressure at JUNCTION-0 (m)</th>\n",
       "      <th>Predicted Pressure at JUNCTION-0 (m)</th>\n",
       "      <th>Pressure Error (m)</th>\n",
       "    </tr>\n",
       "  </thead>\n",
       "  <tbody>\n",
       "    <tr>\n",
       "      <th>0</th>\n",
       "      <td>0.000000</td>\n",
       "      <td>49.990143</td>\n",
       "      <td>49.985397</td>\n",
       "      <td>-0.004746</td>\n",
       "    </tr>\n",
       "    <tr>\n",
       "      <th>1</th>\n",
       "      <td>0.000491</td>\n",
       "      <td>49.985525</td>\n",
       "      <td>49.958931</td>\n",
       "      <td>-0.026594</td>\n",
       "    </tr>\n",
       "    <tr>\n",
       "      <th>2</th>\n",
       "      <td>0.001963</td>\n",
       "      <td>49.966939</td>\n",
       "      <td>49.879490</td>\n",
       "      <td>-0.087449</td>\n",
       "    </tr>\n",
       "  </tbody>\n",
       "</table>\n",
       "</div>"
      ],
      "text/plain": [
       "   Leak Area (m²)  Pressure at JUNCTION-0 (m)  \\\n",
       "0        0.000000                   49.990143   \n",
       "1        0.000491                   49.985525   \n",
       "2        0.001963                   49.966939   \n",
       "\n",
       "   Predicted Pressure at JUNCTION-0 (m)  Pressure Error (m)  \n",
       "0                             49.985397           -0.004746  \n",
       "1                             49.958931           -0.026594  \n",
       "2                             49.879490           -0.087449  "
      ]
     },
     "metadata": {},
     "output_type": "display_data"
    },
    {
     "name": "stdout",
     "output_type": "stream",
     "text": [
      "\n",
      "=== Pipe Flows (Reservoir) with Predictions ===\n"
     ]
    },
    {
     "data": {
      "text/html": [
       "<div>\n",
       "<style scoped>\n",
       "    .dataframe tbody tr th:only-of-type {\n",
       "        vertical-align: middle;\n",
       "    }\n",
       "\n",
       "    .dataframe tbody tr th {\n",
       "        vertical-align: top;\n",
       "    }\n",
       "\n",
       "    .dataframe thead th {\n",
       "        text-align: right;\n",
       "    }\n",
       "</style>\n",
       "<table border=\"1\" class=\"dataframe\">\n",
       "  <thead>\n",
       "    <tr style=\"text-align: right;\">\n",
       "      <th></th>\n",
       "      <th>Leak Area (m²)</th>\n",
       "      <th>Flowrate at Reservoir (m³/s)</th>\n",
       "      <th>Predicted Flowrate at Reservoir (m³/s)</th>\n",
       "      <th>Flowrate Error (m³/s)</th>\n",
       "    </tr>\n",
       "  </thead>\n",
       "  <tbody>\n",
       "    <tr>\n",
       "      <th>0</th>\n",
       "      <td>0.000000</td>\n",
       "      <td>0.050000</td>\n",
       "      <td>0.057369</td>\n",
       "      <td>0.007369</td>\n",
       "    </tr>\n",
       "    <tr>\n",
       "      <th>1</th>\n",
       "      <td>0.000491</td>\n",
       "      <td>0.061529</td>\n",
       "      <td>0.057364</td>\n",
       "      <td>-0.004165</td>\n",
       "    </tr>\n",
       "    <tr>\n",
       "      <th>2</th>\n",
       "      <td>0.001963</td>\n",
       "      <td>0.096109</td>\n",
       "      <td>0.057337</td>\n",
       "      <td>-0.038771</td>\n",
       "    </tr>\n",
       "  </tbody>\n",
       "</table>\n",
       "</div>"
      ],
      "text/plain": [
       "   Leak Area (m²)  Flowrate at Reservoir (m³/s)  \\\n",
       "0        0.000000                      0.050000   \n",
       "1        0.000491                      0.061529   \n",
       "2        0.001963                      0.096109   \n",
       "\n",
       "   Predicted Flowrate at Reservoir (m³/s)  Flowrate Error (m³/s)  \n",
       "0                                0.057369               0.007369  \n",
       "1                                0.057364              -0.004165  \n",
       "2                                0.057337              -0.038771  "
      ]
     },
     "metadata": {},
     "output_type": "display_data"
    }
   ],
   "source": [
    "import torch\n",
    "\n",
    "# Step 1: Prepare input tensor from leak areas\n",
    "A = torch.tensor(leak_areas, dtype=torch.float32).reshape(-1, 1)\n",
    "\n",
    "# Step 2: Predict pressure and flow using the trained model\n",
    "H, q = model.net(A)  # Predicted pressure at JUNCTION-0\n",
    "H = H.detach().flatten()\n",
    "q = q.detach().flatten()\n",
    "\n",
    "# Step 3: Append predicted values to the dataframes\n",
    "\n",
    "# Append to `final_results` (pressure data)\n",
    "pressures['Predicted Pressure at JUNCTION-0 (m)'] = H\n",
    "pressures['Pressure Error (m)'] = pressures['Predicted Pressure at JUNCTION-0 (m)'] - pressures['Pressure at JUNCTION-0 (m)']\n",
    "\n",
    "# Append to `pipe_flows` (flowrate data)\n",
    "flows['Predicted Flowrate at Reservoir (m³/s)'] = q\n",
    "flows['Flowrate Error (m³/s)'] = flows['Predicted Flowrate at Reservoir (m³/s)'] - flows['Flowrate at Reservoir (m³/s)']\n",
    "\n",
    "# Display updated tables\n",
    "print(\"\\n=== Final Results (Pressures) with Predictions ===\")\n",
    "display(pressures)\n",
    "\n",
    "print(\"\\n=== Pipe Flows (Reservoir) with Predictions ===\")\n",
    "display(flows)\n"
   ]
  },
  {
   "cell_type": "code",
   "execution_count": 2244,
   "id": "51269fe9",
   "metadata": {},
   "outputs": [
    {
     "name": "stdout",
     "output_type": "stream",
     "text": [
      "torch.Size([10])\n",
      "torch.Size([10, 1])\n"
     ]
    },
    {
     "data": {
      "image/png": "[encoded data removed]",
      "text/plain": [
       "<Figure size 640x480 with 1 Axes>"
      ]
     },
     "metadata": {},
     "output_type": "display_data"
    }
   ],
   "source": [
    "A = torch.linspace(0, leak_areas.max(), 10).reshape(-1, 1)\n",
    "H, q = model.net(A)  # Predicted pressure at JUNCTION-0\n",
    "H = H.detach().flatten()\n",
    "q = q.detach().flatten()\n",
    "\n",
    "A = A.detach()\n",
    "\n",
    "print(H.shape)\n",
    "print(A.shape)\n",
    "\n",
    "plt.plot(A, H)\n",
    "plt.show()"
   ]
  },
  {
   "cell_type": "code",
   "execution_count": 2245,
   "id": "1a44a937",
   "metadata": {},
   "outputs": [
    {
     "data": {
      "image/png": "[encoded data removed]",
      "text/plain": [
       "<Figure size 640x480 with 1 Axes>"
      ]
     },
     "metadata": {},
     "output_type": "display_data"
    }
   ],
   "source": [
    "plt.plot(A, q)\n",
    "plt.show()"
   ]
  }
 ],
 "metadata": {
  "kernelspec": {
   "display_name": "df_env",
   "language": "python",
   "name": "python3"
  },
  "language_info": {
   "codemirror_mode": {
    "name": "ipython",
    "version": 3
   },
   "file_extension": ".py",
   "mimetype": "text/x-python",
   "name": "python",
   "nbconvert_exporter": "python",
   "pygments_lexer": "ipython3",
   "version": "3.10.18"
  }
 },
 "nbformat": 4,
 "nbformat_minor": 5
}
