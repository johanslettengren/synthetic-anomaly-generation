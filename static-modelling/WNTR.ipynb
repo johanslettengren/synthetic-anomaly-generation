{
 "cells": [
  {
   "cell_type": "code",
   "execution_count": 1916,
   "id": "4b83ecb0",
   "metadata": {},
   "outputs": [],
   "source": [
    "from importlib import reload\n",
    "import static_model\n",
    "reload(static_model)\n",
    "from static_model import *"
   ]
  },
  {
   "cell_type": "code",
   "execution_count": 1917,
   "id": "57ddc329",
   "metadata": {},
   "outputs": [],
   "source": [
    "import networkx as nx\n",
    "import numpy as np\n",
    "import torch"
   ]
  },
  {
   "cell_type": "code",
   "execution_count": 1918,
   "id": "5b967637",
   "metadata": {},
   "outputs": [],
   "source": [
    "# import wntr\n",
    "# import pandas as pd\n",
    "# import numpy as np\n",
    "\n",
    "# n_samples = 10\n",
    "# inp_file = 'network_file.inp'\n",
    "# Cd = 0.75\n",
    "# A_max = 0.5\n",
    "\n",
    "# leak_ratio = np.linspace(0, A_max, n_samples)\n",
    "# leak_areas = 3.14159 * (leak_ratio / 2) ** 2\n",
    "\n",
    "# leak_node_id = 'LEAK-0'  # Where to inject the leak\n",
    "\n",
    "# # Preallocate storage\n",
    "# pressure_data = []\n",
    "# flow_data = []\n",
    "\n",
    "# for area in leak_areas:\n",
    "#     #wn = base_wn.copy()\n",
    "#     wn = wntr.network.WaterNetworkModel(inp_file)\n",
    "#     supply_nodes = wn.reservoir_name_list\n",
    "\n",
    "\n",
    "#     # Add leak at specified node\n",
    "#     junction = wn.get_node(leak_node_id)\n",
    "#     junction.add_leak(wn, area=area, discharge_coeff=Cd, start_time=0)\n",
    "\n",
    "#     # Run simulation\n",
    "#     sim = wntr.sim.WNTRSimulator(wn)\n",
    "#     results = sim.run_sim()\n",
    "\n",
    "#     # Grab first timestep (static scenario)\n",
    "#     pressure = results.node['pressure'].iloc[0]  # Series: node_id -> pressure\n",
    "#     pressure = {k: v for k, v in pressure.items() if k not in supply_nodes}\n",
    "\n",
    "#     flow = results.link['flowrate'].iloc[0]      # Series: link_id -> flowrate\n",
    "\n",
    "#     # Append leak area and data\n",
    "#     pressure_row = {'Leak Area (m²)': area}\n",
    "#     pressure_row.update(pressure.to_dict())\n",
    "\n",
    "#     #flow_row = {'Leak Area (m²)': area}\n",
    "#     #flow_row.update(flow.to_dict())\n",
    "\n",
    "#     pressure_data.append(pressure_row)\n",
    "#     #flow_data.append(flow_row)\n",
    "\n",
    "# # Create final DataFrames\n",
    "# pressure_df = pd.DataFrame(pressure_data)\n",
    "# #flow_df = pd.DataFrame(flow_data)\n",
    "\n",
    "# # Show output\n",
    "# display(pressure_df)\n",
    "# #display(flow_df)\n"
   ]
  },
  {
   "cell_type": "code",
   "execution_count": 1919,
   "id": "2f406e75",
   "metadata": {},
   "outputs": [
    {
     "data": {
      "text/html": [
       "<div>\n",
       "<style scoped>\n",
       "    .dataframe tbody tr th:only-of-type {\n",
       "        vertical-align: middle;\n",
       "    }\n",
       "\n",
       "    .dataframe tbody tr th {\n",
       "        vertical-align: top;\n",
       "    }\n",
       "\n",
       "    .dataframe thead th {\n",
       "        text-align: right;\n",
       "    }\n",
       "</style>\n",
       "<table border=\"1\" class=\"dataframe\">\n",
       "  <thead>\n",
       "    <tr style=\"text-align: right;\">\n",
       "      <th></th>\n",
       "      <th>Leak Area (m²)</th>\n",
       "      <th>PIPE-0</th>\n",
       "      <th>PIPE-1</th>\n",
       "    </tr>\n",
       "  </thead>\n",
       "  <tbody>\n",
       "    <tr>\n",
       "      <th>0</th>\n",
       "      <td>0.000000</td>\n",
       "      <td>0.050000</td>\n",
       "      <td>0.05</td>\n",
       "    </tr>\n",
       "    <tr>\n",
       "      <th>1</th>\n",
       "      <td>0.002424</td>\n",
       "      <td>0.106920</td>\n",
       "      <td>0.05</td>\n",
       "    </tr>\n",
       "    <tr>\n",
       "      <th>2</th>\n",
       "      <td>0.009696</td>\n",
       "      <td>0.277236</td>\n",
       "      <td>0.05</td>\n",
       "    </tr>\n",
       "    <tr>\n",
       "      <th>3</th>\n",
       "      <td>0.021817</td>\n",
       "      <td>0.558065</td>\n",
       "      <td>0.05</td>\n",
       "    </tr>\n",
       "    <tr>\n",
       "      <th>4</th>\n",
       "      <td>0.038785</td>\n",
       "      <td>0.940279</td>\n",
       "      <td>0.05</td>\n",
       "    </tr>\n",
       "    <tr>\n",
       "      <th>5</th>\n",
       "      <td>0.060602</td>\n",
       "      <td>1.404327</td>\n",
       "      <td>0.05</td>\n",
       "    </tr>\n",
       "    <tr>\n",
       "      <th>6</th>\n",
       "      <td>0.087266</td>\n",
       "      <td>1.918532</td>\n",
       "      <td>0.05</td>\n",
       "    </tr>\n",
       "    <tr>\n",
       "      <th>7</th>\n",
       "      <td>0.118779</td>\n",
       "      <td>2.442746</td>\n",
       "      <td>0.05</td>\n",
       "    </tr>\n",
       "    <tr>\n",
       "      <th>8</th>\n",
       "      <td>0.155140</td>\n",
       "      <td>2.937326</td>\n",
       "      <td>0.05</td>\n",
       "    </tr>\n",
       "    <tr>\n",
       "      <th>9</th>\n",
       "      <td>0.196349</td>\n",
       "      <td>3.372933</td>\n",
       "      <td>0.05</td>\n",
       "    </tr>\n",
       "  </tbody>\n",
       "</table>\n",
       "</div>"
      ],
      "text/plain": [
       "   Leak Area (m²)    PIPE-0  PIPE-1\n",
       "0        0.000000  0.050000    0.05\n",
       "1        0.002424  0.106920    0.05\n",
       "2        0.009696  0.277236    0.05\n",
       "3        0.021817  0.558065    0.05\n",
       "4        0.038785  0.940279    0.05\n",
       "5        0.060602  1.404327    0.05\n",
       "6        0.087266  1.918532    0.05\n",
       "7        0.118779  2.442746    0.05\n",
       "8        0.155140  2.937326    0.05\n",
       "9        0.196349  3.372933    0.05"
      ]
     },
     "metadata": {},
     "output_type": "display_data"
    }
   ],
   "source": [
    "import wntr\n",
    "import pandas as pd\n",
    "import numpy as np\n",
    "\n",
    "n_samples = 10\n",
    "inp_file = 'network_file.inp'\n",
    "Cd = 0.75\n",
    "A_max = 0.5\n",
    "\n",
    "leak_ratio = np.linspace(0, A_max, n_samples)\n",
    "leak_areas = 3.14159 * (leak_ratio / 2) ** 2\n",
    "\n",
    "leak_node_id = 'LEAK-0'  # Where to inject the leak\n",
    "\n",
    "base_wn = wntr.network.WaterNetworkModel(inp_file)\n",
    "\n",
    "# Identify supply nodes (e.g., reservoirs)\n",
    "supply_nodes = base_wn.reservoir_name_list\n",
    "\n",
    "# Preallocate storage\n",
    "pressure_data = []\n",
    "\n",
    "for area in leak_areas:\n",
    "    wn = wntr.network.WaterNetworkModel(inp_file)\n",
    "\n",
    "    # Add leak at specified node\n",
    "    junction = wn.get_node(leak_node_id)\n",
    "    junction.add_leak(wn, area=area, discharge_coeff=Cd, start_time=0)\n",
    "\n",
    "    # Run simulation\n",
    "    sim = wntr.sim.WNTRSimulator(wn)\n",
    "    results = sim.run_sim()\n",
    "\n",
    "    # Get pressures at t=0\n",
    "    pressure = results.link['flowrate'].iloc[0]  # Series: node_id -> pressure\n",
    "\n",
    "    # Filter out supply nodes\n",
    "    filtered_pressure = {k: v for k, v in pressure.items() if k not in supply_nodes}\n",
    "\n",
    "    # Add to results\n",
    "    pressure_row = {'Leak Area (m²)': area}\n",
    "    pressure_row.update(filtered_pressure)\n",
    "    pressure_data.append(pressure_row)\n",
    "\n",
    "# Create DataFrame\n",
    "pressure_df = pd.DataFrame(pressure_data)\n",
    "\n",
    "# Display\n",
    "display(pressure_df)\n"
   ]
  },
  {
   "cell_type": "code",
   "execution_count": 1920,
   "id": "0ba8f2df",
   "metadata": {},
   "outputs": [
    {
     "data": {
      "image/png": "[encoded data removed]",
      "text/plain": [
       "<Figure size 800x600 with 1 Axes>"
      ]
     },
     "metadata": {},
     "output_type": "display_data"
    }
   ],
   "source": [
    "from wntr.graphics import plot_network\n",
    "import matplotlib.pyplot as plt\n",
    "\n",
    "# Plot just the structure of the network\n",
    "fig, ax = plt.subplots(figsize=(8, 6))\n",
    "plot_network(wn, node_labels=True, link_labels=True, ax=ax)\n",
    "plt.show()"
   ]
  },
  {
   "cell_type": "code",
   "execution_count": 1921,
   "id": "dd4ed1f0",
   "metadata": {},
   "outputs": [],
   "source": [
    "G = wn.to_graph()\n",
    "reservoirs = list(wn.reservoir_name_list)\n",
    "# Get all node names (junctions, tanks, reservoirs)\n",
    "all_nodes = list(G.nodes())\n",
    "\n",
    "# Filter out reservoirs\n",
    "non_reservoir_nodes = [n for n in all_nodes if n not in reservoirs]\n",
    "\n",
    "idx = [i for i, n in enumerate(all_nodes) if n not in reservoirs]\n",
    "\n",
    "# Get adjacency matrix using filtered nodelist\n",
    "A  = nx.incidence_matrix(G, oriented=True)\n",
    "A0 = torch.tensor(A[idx,:].toarray(), dtype=torch.float32)\n",
    "\n"
   ]
  },
  {
   "cell_type": "code",
   "execution_count": 1922,
   "id": "06645ac1",
   "metadata": {},
   "outputs": [],
   "source": [
    "import torch\n",
    "\n",
    "# Suppose you've named your inserted junctions as 'LEAK-0', 'LEAK-1', ..., etc.\n",
    "\n",
    "num_pipes = len(wn.pipe_name_list) // 2\n",
    "\n",
    "# Or you could identify them some other way (e.g., tag or custom attribute)\n",
    "leak_junctions = [f'LEAK-{i}' for i in range(num_pipes)]  # Replace with actual leak names if different\n",
    "\n",
    "# Map node names to row indices in your reduced incidence matrix A0\n",
    "node_to_index = {n: i for i, n in enumerate(non_reservoir_nodes)}\n",
    "\n",
    "# Initialize the mapping matrix: shape [# of non-reservoir nodes, # of leaks]\n",
    "M = torch.zeros((len(non_reservoir_nodes), len(leak_junctions)))\n",
    "\n",
    "# Set 1 where the leak area should be applied\n",
    "for j, leak_junction in enumerate(leak_junctions):\n",
    "    if leak_junction in node_to_index:\n",
    "        i = node_to_index[leak_junction]\n",
    "        M[i, j] = 1.0\n",
    "    else:\n",
    "        raise ValueError(f\"Leak junction '{leak_junction}' not found in node list.\")"
   ]
  },
  {
   "cell_type": "code",
   "execution_count": 1923,
   "id": "3200a02a",
   "metadata": {},
   "outputs": [],
   "source": [
    "from scipy.sparse import dok_matrix\n",
    "\n",
    "edgelist = list(G.edges())\n",
    "supply_nodes = wn.reservoir_name_list  # or include tanks if needed\n",
    "supply_nodes = list(supply_nodes)  # Ensure it's ordered\n",
    "\n",
    "# Create edge-to-start-node mapping\n",
    "edge_start_nodes = [edge[0] for edge in edgelist]\n",
    "\n",
    "# Create B matrix (|E| x |supply_nodes|), sparse\n",
    "B = dok_matrix((len(edgelist), len(supply_nodes)), dtype=int)\n",
    "\n",
    "for i, (start_node) in enumerate(edge_start_nodes):\n",
    "    if start_node in supply_nodes:\n",
    "        j = supply_nodes.index(start_node)\n",
    "        B[i, j] = 1\n",
    "\n",
    "# Convert to CSR format for efficient arithmetic\n",
    "B = torch.tensor(B.toarray(), dtype=torch.float32)"
   ]
  },
  {
   "cell_type": "code",
   "execution_count": 1924,
   "id": "5c96cda7",
   "metadata": {},
   "outputs": [
    {
     "name": "stdout",
     "output_type": "stream",
     "text": [
      "tensor([0.0000, 0.0500])\n"
     ]
    }
   ],
   "source": [
    "junctions = wn.junction_name_list  # Only junctions have demand\n",
    "\n",
    "# Get base demands at each junction\n",
    "D_values = []\n",
    "for name in junctions:\n",
    "    junction = wn.get_node(name)\n",
    "    demand = junction.base_demand  # in m³/s\n",
    "    D_values.append(demand)\n",
    "\n",
    "# D is a NumPy array aligned with junction_name_list\n",
    "D = torch.tensor(D_values, dtype=torch.float32)\n",
    "print(D)"
   ]
  },
  {
   "cell_type": "code",
   "execution_count": 1925,
   "id": "7ce2850b",
   "metadata": {},
   "outputs": [
    {
     "name": "stdout",
     "output_type": "stream",
     "text": [
      "tensor([50.])\n"
     ]
    }
   ],
   "source": [
    "# Get supply node names\n",
    "supply_nodes = wn.reservoir_name_list  # Or include tanks if needed\n",
    "\n",
    "# Get heads at each supply node\n",
    "S_values = []\n",
    "for name in supply_nodes:\n",
    "    reservoir = wn.get_node(name)\n",
    "    head = reservoir.base_head  # This is constant in steady state\n",
    "    S_values.append(head)\n",
    "\n",
    "S = torch.tensor(S_values, dtype=torch.float32)\n",
    "print(S)\n"
   ]
  },
  {
   "cell_type": "code",
   "execution_count": 1926,
   "id": "17dcb4bc",
   "metadata": {},
   "outputs": [
    {
     "name": "stdout",
     "output_type": "stream",
     "text": [
      "tensor([100., 100.])\n"
     ]
    }
   ],
   "source": [
    "pipe_names = wn.pipe_name_list  # List of all pipe IDs\n",
    "\n",
    "# Get length of each pipe (in meters)\n",
    "L = torch.tensor([wn.get_link(name).length for name in pipe_names], dtype=torch.float32)\n",
    "\n",
    "# Get diameter of each pipe (in meters)\n",
    "d = torch.tensor([wn.get_link(name).diameter for name in pipe_names], dtype=torch.float32)\n",
    "\n",
    "# Get Hazen-Williams roughness coefficients (unitless)\n",
    "C = torch.tensor([wn.get_link(name).roughness for name in pipe_names], dtype=torch.float32)\n",
    "\n",
    "print(C)"
   ]
  },
  {
   "cell_type": "code",
   "execution_count": 1927,
   "id": "037b266b",
   "metadata": {},
   "outputs": [
    {
     "data": {
      "text/plain": [
       "tensor([[0., 1.],\n",
       "        [1., 1.]])"
      ]
     },
     "execution_count": 1927,
     "metadata": {},
     "output_type": "execute_result"
    }
   ],
   "source": [
    "torch.linalg.inv(A0.T)"
   ]
  },
  {
   "cell_type": "code",
   "execution_count": 1928,
   "id": "e1c925d2",
   "metadata": {},
   "outputs": [],
   "source": [
    "model_params = {\n",
    "    'A0': A0,\n",
    "    'inv' : torch.linalg.inv(A0.T),\n",
    "    'M' : M,\n",
    "    'B' : B,\n",
    "    'A_max' : leak_areas.max(),\n",
    "    'S' : S,\n",
    "    'D' : D,\n",
    "    'd': d,\n",
    "    'L': L,\n",
    "    'Cd' : 0.75, \n",
    "    'C' : C,\n",
    "    'rho' : 1000.0,\n",
    "    'n_samples' : 10\n",
    "}\n",
    "\n",
    "net_params = {\n",
    "        'layer_sizes' : [200,200,200,A0.shape[0]], \n",
    "        'activation' : 'tanh',\n",
    "}\n"
   ]
  },
  {
   "cell_type": "code",
   "execution_count": 1929,
   "id": "e6742864",
   "metadata": {},
   "outputs": [
    {
     "name": "stdout",
     "output_type": "stream",
     "text": [
      "tensor([[-1.,  1.],\n",
      "        [ 1.,  0.]])\n"
     ]
    }
   ],
   "source": [
    "print(A0)"
   ]
  },
  {
   "cell_type": "code",
   "execution_count": 1930,
   "id": "49fc62fa",
   "metadata": {},
   "outputs": [
    {
     "name": "stdout",
     "output_type": "stream",
     "text": [
      "step       loss       e1          e2\n",
      "1000       1.82e-03   New Best!\n",
      "2000       1.42e-03   New Best!\n",
      "3000       3.09e-04   New Best!\n",
      "4000       6.83e-05   New Best!\n",
      "5000       3.30e-05   New Best!\n",
      "6000       3.63e-04   \n",
      "7000       1.06e-05   New Best!\n",
      "8000       4.81e-06   New Best!\n",
      "9000       2.74e-06   New Best!\n",
      "10000      2.52e-06   New Best!\n",
      "11000      8.11e-07   New Best!\n",
      "12000      8.05e-06   \n",
      "13000      1.16e-03   \n",
      "14000      1.06e-03   \n",
      "15000      1.25e-06   \n",
      "16000      5.91e-07   New Best!\n",
      "17000      2.79e-04   \n",
      "18000      6.07e-07   \n",
      "19000      1.64e-03   \n",
      "20000      7.49e-08   New Best!\n",
      "21000      8.05e-08   \n",
      "22000      8.32e-08   \n",
      "23000      1.04e-07   \n",
      "24000      1.04e-07   \n",
      "25000      1.05e-07   \n",
      "26000      4.34e-07   \n",
      "27000      9.44e-08   \n",
      "28000      1.60e-05   \n"
     ]
    },
    {
     "ename": "KeyboardInterrupt",
     "evalue": "",
     "output_type": "error",
     "traceback": [
      "\u001b[0;31m---------------------------------------------------------------------------\u001b[0m",
      "\u001b[0;31mKeyboardInterrupt\u001b[0m                         Traceback (most recent call last)",
      "Cell \u001b[0;32mIn[1930], line 2\u001b[0m\n\u001b[1;32m      1\u001b[0m model \u001b[38;5;241m=\u001b[39m Model(model_params, net_params)\n\u001b[0;32m----> 2\u001b[0m \u001b[43mmodel\u001b[49m\u001b[38;5;241;43m.\u001b[39;49m\u001b[43mtrain\u001b[49m\u001b[43m(\u001b[49m\u001b[43miterations\u001b[49m\u001b[38;5;241;43m=\u001b[39;49m\u001b[38;5;241;43m100000\u001b[39;49m\u001b[43m,\u001b[49m\u001b[43m \u001b[49m\u001b[43mprint_interval\u001b[49m\u001b[38;5;241;43m=\u001b[39;49m\u001b[38;5;241;43m1000\u001b[39;49m\u001b[43m)\u001b[49m\n",
      "File \u001b[0;32m~/Desktop/Digital Futures/synthetic-anomaly-generation/static-modelling/static_model.py:134\u001b[0m, in \u001b[0;36mModel.train\u001b[0;34m(self, iterations, print_interval)\u001b[0m\n\u001b[1;32m    132\u001b[0m \u001b[38;5;28mself\u001b[39m\u001b[38;5;241m.\u001b[39moptimizer\u001b[38;5;241m.\u001b[39mzero_grad()\n\u001b[1;32m    133\u001b[0m loss \u001b[38;5;241m=\u001b[39m \u001b[38;5;28mself\u001b[39m\u001b[38;5;241m.\u001b[39mloss(A)\n\u001b[0;32m--> 134\u001b[0m \u001b[43mloss\u001b[49m\u001b[38;5;241;43m.\u001b[39;49m\u001b[43mbackward\u001b[49m\u001b[43m(\u001b[49m\u001b[43m)\u001b[49m\n\u001b[1;32m    135\u001b[0m torch\u001b[38;5;241m.\u001b[39mnn\u001b[38;5;241m.\u001b[39mutils\u001b[38;5;241m.\u001b[39mclip_grad_norm_(\u001b[38;5;28mself\u001b[39m\u001b[38;5;241m.\u001b[39mnet\u001b[38;5;241m.\u001b[39mparameters(), max_norm\u001b[38;5;241m=\u001b[39m\u001b[38;5;241m1.0\u001b[39m)\n\u001b[1;32m    136\u001b[0m \u001b[38;5;28mself\u001b[39m\u001b[38;5;241m.\u001b[39moptimizer\u001b[38;5;241m.\u001b[39mstep()\n",
      "File \u001b[0;32m~/miniconda3/envs/df_env/lib/python3.10/site-packages/torch/_tensor.py:492\u001b[0m, in \u001b[0;36mTensor.backward\u001b[0;34m(self, gradient, retain_graph, create_graph, inputs)\u001b[0m\n\u001b[1;32m    482\u001b[0m \u001b[38;5;28;01mif\u001b[39;00m has_torch_function_unary(\u001b[38;5;28mself\u001b[39m):\n\u001b[1;32m    483\u001b[0m     \u001b[38;5;28;01mreturn\u001b[39;00m handle_torch_function(\n\u001b[1;32m    484\u001b[0m         Tensor\u001b[38;5;241m.\u001b[39mbackward,\n\u001b[1;32m    485\u001b[0m         (\u001b[38;5;28mself\u001b[39m,),\n\u001b[0;32m   (...)\u001b[0m\n\u001b[1;32m    490\u001b[0m         inputs\u001b[38;5;241m=\u001b[39minputs,\n\u001b[1;32m    491\u001b[0m     )\n\u001b[0;32m--> 492\u001b[0m \u001b[43mtorch\u001b[49m\u001b[38;5;241;43m.\u001b[39;49m\u001b[43mautograd\u001b[49m\u001b[38;5;241;43m.\u001b[39;49m\u001b[43mbackward\u001b[49m\u001b[43m(\u001b[49m\n\u001b[1;32m    493\u001b[0m \u001b[43m    \u001b[49m\u001b[38;5;28;43mself\u001b[39;49m\u001b[43m,\u001b[49m\u001b[43m \u001b[49m\u001b[43mgradient\u001b[49m\u001b[43m,\u001b[49m\u001b[43m \u001b[49m\u001b[43mretain_graph\u001b[49m\u001b[43m,\u001b[49m\u001b[43m \u001b[49m\u001b[43mcreate_graph\u001b[49m\u001b[43m,\u001b[49m\u001b[43m \u001b[49m\u001b[43minputs\u001b[49m\u001b[38;5;241;43m=\u001b[39;49m\u001b[43minputs\u001b[49m\n\u001b[1;32m    494\u001b[0m \u001b[43m\u001b[49m\u001b[43m)\u001b[49m\n",
      "File \u001b[0;32m~/miniconda3/envs/df_env/lib/python3.10/site-packages/torch/autograd/__init__.py:251\u001b[0m, in \u001b[0;36mbackward\u001b[0;34m(tensors, grad_tensors, retain_graph, create_graph, grad_variables, inputs)\u001b[0m\n\u001b[1;32m    246\u001b[0m     retain_graph \u001b[38;5;241m=\u001b[39m create_graph\n\u001b[1;32m    248\u001b[0m \u001b[38;5;66;03m# The reason we repeat the same comment below is that\u001b[39;00m\n\u001b[1;32m    249\u001b[0m \u001b[38;5;66;03m# some Python versions print out the first line of a multi-line function\u001b[39;00m\n\u001b[1;32m    250\u001b[0m \u001b[38;5;66;03m# calls in the traceback and some print out the last line\u001b[39;00m\n\u001b[0;32m--> 251\u001b[0m \u001b[43mVariable\u001b[49m\u001b[38;5;241;43m.\u001b[39;49m\u001b[43m_execution_engine\u001b[49m\u001b[38;5;241;43m.\u001b[39;49m\u001b[43mrun_backward\u001b[49m\u001b[43m(\u001b[49m\u001b[43m  \u001b[49m\u001b[38;5;66;43;03m# Calls into the C++ engine to run the backward pass\u001b[39;49;00m\n\u001b[1;32m    252\u001b[0m \u001b[43m    \u001b[49m\u001b[43mtensors\u001b[49m\u001b[43m,\u001b[49m\n\u001b[1;32m    253\u001b[0m \u001b[43m    \u001b[49m\u001b[43mgrad_tensors_\u001b[49m\u001b[43m,\u001b[49m\n\u001b[1;32m    254\u001b[0m \u001b[43m    \u001b[49m\u001b[43mretain_graph\u001b[49m\u001b[43m,\u001b[49m\n\u001b[1;32m    255\u001b[0m \u001b[43m    \u001b[49m\u001b[43mcreate_graph\u001b[49m\u001b[43m,\u001b[49m\n\u001b[1;32m    256\u001b[0m \u001b[43m    \u001b[49m\u001b[43minputs\u001b[49m\u001b[43m,\u001b[49m\n\u001b[1;32m    257\u001b[0m \u001b[43m    \u001b[49m\u001b[43mallow_unreachable\u001b[49m\u001b[38;5;241;43m=\u001b[39;49m\u001b[38;5;28;43;01mTrue\u001b[39;49;00m\u001b[43m,\u001b[49m\n\u001b[1;32m    258\u001b[0m \u001b[43m    \u001b[49m\u001b[43maccumulate_grad\u001b[49m\u001b[38;5;241;43m=\u001b[39;49m\u001b[38;5;28;43;01mTrue\u001b[39;49;00m\u001b[43m,\u001b[49m\n\u001b[1;32m    259\u001b[0m \u001b[43m\u001b[49m\u001b[43m)\u001b[49m\n",
      "\u001b[0;31mKeyboardInterrupt\u001b[0m: "
     ]
    }
   ],
   "source": [
    "model = Model(model_params, net_params)\n",
    "model.train(iterations=100000, print_interval=1000)"
   ]
  },
  {
   "cell_type": "code",
   "execution_count": null,
   "id": "c49d0e94",
   "metadata": {},
   "outputs": [
    {
     "name": "stdout",
     "output_type": "stream",
     "text": [
      "Best loss: tensor(7.4936e-08, grad_fn=<MeanBackward0>)\n",
      "[[0.05  0.05 ]\n",
      " [0.558 0.05 ]\n",
      " [1.046 0.05 ]\n",
      " [1.502 0.049]\n",
      " [1.919 0.05 ]\n",
      " [2.291 0.05 ]\n",
      " [2.62  0.05 ]\n",
      " [2.907 0.05 ]\n",
      " [3.157 0.05 ]\n",
      " [3.373 0.05 ]]\n",
      "[[0.05  0.05 ]\n",
      " [0.107 0.05 ]\n",
      " [0.277 0.05 ]\n",
      " [0.558 0.05 ]\n",
      " [0.94  0.05 ]\n",
      " [1.404 0.05 ]\n",
      " [1.919 0.05 ]\n",
      " [2.443 0.05 ]\n",
      " [2.937 0.05 ]\n",
      " [3.373 0.05 ]]\n"
     ]
    },
    {
     "data": {
      "text/markdown": [
       "### Pressure Head Prediction Errors at Each Junction (Predicted - True)"
      ],
      "text/plain": [
       "<IPython.core.display.Markdown object>"
      ]
     },
     "metadata": {},
     "output_type": "display_data"
    },
    {
     "data": {
      "text/html": [
       "<div>\n",
       "<style scoped>\n",
       "    .dataframe tbody tr th:only-of-type {\n",
       "        vertical-align: middle;\n",
       "    }\n",
       "\n",
       "    .dataframe tbody tr th {\n",
       "        vertical-align: top;\n",
       "    }\n",
       "\n",
       "    .dataframe thead th {\n",
       "        text-align: right;\n",
       "    }\n",
       "</style>\n",
       "<table border=\"1\" class=\"dataframe\">\n",
       "  <thead>\n",
       "    <tr style=\"text-align: right;\">\n",
       "      <th></th>\n",
       "      <th>Leak Area (m²)</th>\n",
       "      <th>PIPE-0</th>\n",
       "      <th>PIPE-1</th>\n",
       "    </tr>\n",
       "  </thead>\n",
       "  <tbody>\n",
       "    <tr>\n",
       "      <th>0</th>\n",
       "      <td>0.000000</td>\n",
       "      <td>-0.000018</td>\n",
       "      <td>-0.000005</td>\n",
       "    </tr>\n",
       "    <tr>\n",
       "      <th>1</th>\n",
       "      <td>0.002424</td>\n",
       "      <td>0.451046</td>\n",
       "      <td>-0.000019</td>\n",
       "    </tr>\n",
       "    <tr>\n",
       "      <th>2</th>\n",
       "      <td>0.009696</td>\n",
       "      <td>0.769207</td>\n",
       "      <td>0.000240</td>\n",
       "    </tr>\n",
       "    <tr>\n",
       "      <th>3</th>\n",
       "      <td>0.021817</td>\n",
       "      <td>0.943492</td>\n",
       "      <td>-0.000661</td>\n",
       "    </tr>\n",
       "    <tr>\n",
       "      <th>4</th>\n",
       "      <td>0.038785</td>\n",
       "      <td>0.978281</td>\n",
       "      <td>0.000363</td>\n",
       "    </tr>\n",
       "    <tr>\n",
       "      <th>5</th>\n",
       "      <td>0.060602</td>\n",
       "      <td>0.886955</td>\n",
       "      <td>0.000394</td>\n",
       "    </tr>\n",
       "    <tr>\n",
       "      <th>6</th>\n",
       "      <td>0.087266</td>\n",
       "      <td>0.701336</td>\n",
       "      <td>-0.000181</td>\n",
       "    </tr>\n",
       "    <tr>\n",
       "      <th>7</th>\n",
       "      <td>0.118779</td>\n",
       "      <td>0.464208</td>\n",
       "      <td>-0.000272</td>\n",
       "    </tr>\n",
       "    <tr>\n",
       "      <th>8</th>\n",
       "      <td>0.155140</td>\n",
       "      <td>0.219968</td>\n",
       "      <td>-0.000017</td>\n",
       "    </tr>\n",
       "    <tr>\n",
       "      <th>9</th>\n",
       "      <td>0.196349</td>\n",
       "      <td>-0.000338</td>\n",
       "      <td>0.000147</td>\n",
       "    </tr>\n",
       "  </tbody>\n",
       "</table>\n",
       "</div>"
      ],
      "text/plain": [
       "   Leak Area (m²)    PIPE-0    PIPE-1\n",
       "0        0.000000 -0.000018 -0.000005\n",
       "1        0.002424  0.451046 -0.000019\n",
       "2        0.009696  0.769207  0.000240\n",
       "3        0.021817  0.943492 -0.000661\n",
       "4        0.038785  0.978281  0.000363\n",
       "5        0.060602  0.886955  0.000394\n",
       "6        0.087266  0.701336 -0.000181\n",
       "7        0.118779  0.464208 -0.000272\n",
       "8        0.155140  0.219968 -0.000017\n",
       "9        0.196349 -0.000338  0.000147"
      ]
     },
     "metadata": {},
     "output_type": "display_data"
    }
   ],
   "source": [
    "from IPython.display import display, Markdown\n",
    "import pandas as pd\n",
    "import torch\n",
    "\n",
    "model.eval()\n",
    "\n",
    "a = torch.linspace(0, leak_areas.max(), 10).reshape(-1, 1)\n",
    "a = torch.cat((a, torch.zeros_like(a)), dim=-1)                                    \n",
    "\n",
    "q = model.net(a)\n",
    "\n",
    "node_names = list(pressure_df.columns[1:])\n",
    "q = np.flip(q.detach().numpy(), axis=1)\n",
    "true = pressure_df.drop(columns=['Leak Area (m²)']).to_numpy()\n",
    "\n",
    "error_np = q - true\n",
    "\n",
    "print(q)\n",
    "print(true)\n",
    "\n",
    "error_df = pd.DataFrame(error_np, columns=node_names)\n",
    "error_df.insert(0, 'Leak Area (m²)', pressure_df['Leak Area (m²)'].values)\n",
    "\n",
    "# Display title and table together\n",
    "display(Markdown(\"### Pressure Head Prediction Errors at Each Junction (Predicted - True)\"))\n",
    "display(error_df)\n"
   ]
  },
  {
   "cell_type": "code",
   "execution_count": 1932,
   "id": "e0bbded2",
   "metadata": {},
   "outputs": [
    {
     "name": "stdout",
     "output_type": "stream",
     "text": [
      "(10, 2)\n"
     ]
    },
    {
     "data": {
      "image/png": "[encoded data removed]",
      "text/plain": [
       "<Figure size 1200x600 with 1 Axes>"
      ]
     },
     "metadata": {},
     "output_type": "display_data"
    }
   ],
   "source": [
    "import matplotlib.pyplot as plt\n",
    "\n",
    "# --- Assumptions ---\n",
    "# error_df: DataFrame with columns ['Leak Area (m²)', JUNCTION-0, JUNCTION-1, ...]\n",
    "# node_names: List of non-supply node names (i.e., columns in error_df, excluding first)\n",
    "\n",
    "# Extract x and y values\n",
    "leak_areas = error_df['Leak Area (m²)'].values\n",
    "node_names = error_df.columns[1:]  # skip 'Leak Area (m²)'\n",
    "\n",
    "plt.figure(figsize=(12, 6))\n",
    "print(H_np.shape)\n",
    "\n",
    "# Plot error at each junction\n",
    "for i, node in enumerate(node_names):\n",
    "    plt.plot(leak_areas, H_np[:,i], label='pred')\n",
    "    plt.plot(leak_areas, true_np[:,i], label='true')\n",
    "\n",
    "plt.xlabel(\"Leak Area (m²)\")\n",
    "plt.ylabel(\"Pressure Error (m)\")\n",
    "plt.title(\"Pressure Head Prediction Error at Each Junction vs. Leak Area\")\n",
    "plt.legend(title=\"Junctions\", bbox_to_anchor=(1.05, 1), loc='upper left')\n",
    "plt.grid(True)\n",
    "plt.tight_layout()\n",
    "plt.show()\n"
   ]
  },
  {
   "cell_type": "code",
   "execution_count": 1933,
   "id": "51269fe9",
   "metadata": {},
   "outputs": [
    {
     "ename": "RuntimeError",
     "evalue": "mat1 and mat2 shapes cannot be multiplied (10x1 and 2x200)",
     "output_type": "error",
     "traceback": [
      "\u001b[0;31m---------------------------------------------------------------------------\u001b[0m",
      "\u001b[0;31mRuntimeError\u001b[0m                              Traceback (most recent call last)",
      "Cell \u001b[0;32mIn[1933], line 2\u001b[0m\n\u001b[1;32m      1\u001b[0m A \u001b[38;5;241m=\u001b[39m torch\u001b[38;5;241m.\u001b[39mlinspace(\u001b[38;5;241m0\u001b[39m, leak_areas\u001b[38;5;241m.\u001b[39mmax(), \u001b[38;5;241m10\u001b[39m)\u001b[38;5;241m.\u001b[39mreshape(\u001b[38;5;241m-\u001b[39m\u001b[38;5;241m1\u001b[39m, \u001b[38;5;241m1\u001b[39m)\n\u001b[0;32m----> 2\u001b[0m H \u001b[38;5;241m=\u001b[39m \u001b[43mmodel\u001b[49m\u001b[38;5;241;43m.\u001b[39;49m\u001b[43mnet\u001b[49m\u001b[43m(\u001b[49m\u001b[43mA\u001b[49m\u001b[43m)\u001b[49m  \u001b[38;5;66;03m# Predicted pressure at JUNCTION-0\u001b[39;00m\n\u001b[1;32m      4\u001b[0m A \u001b[38;5;241m=\u001b[39m A\u001b[38;5;241m.\u001b[39mdetach()\n\u001b[1;32m      6\u001b[0m plt\u001b[38;5;241m.\u001b[39mplot(leak_areas, H\u001b[38;5;241m.\u001b[39mdetach()\u001b[38;5;241m.\u001b[39mflatten(), label\u001b[38;5;241m=\u001b[39m\u001b[38;5;124m'\u001b[39m\u001b[38;5;124mpred\u001b[39m\u001b[38;5;124m'\u001b[39m)\n",
      "File \u001b[0;32m~/miniconda3/envs/df_env/lib/python3.10/site-packages/torch/nn/modules/module.py:1518\u001b[0m, in \u001b[0;36mModule._wrapped_call_impl\u001b[0;34m(self, *args, **kwargs)\u001b[0m\n\u001b[1;32m   1516\u001b[0m     \u001b[38;5;28;01mreturn\u001b[39;00m \u001b[38;5;28mself\u001b[39m\u001b[38;5;241m.\u001b[39m_compiled_call_impl(\u001b[38;5;241m*\u001b[39margs, \u001b[38;5;241m*\u001b[39m\u001b[38;5;241m*\u001b[39mkwargs)  \u001b[38;5;66;03m# type: ignore[misc]\u001b[39;00m\n\u001b[1;32m   1517\u001b[0m \u001b[38;5;28;01melse\u001b[39;00m:\n\u001b[0;32m-> 1518\u001b[0m     \u001b[38;5;28;01mreturn\u001b[39;00m \u001b[38;5;28;43mself\u001b[39;49m\u001b[38;5;241;43m.\u001b[39;49m\u001b[43m_call_impl\u001b[49m\u001b[43m(\u001b[49m\u001b[38;5;241;43m*\u001b[39;49m\u001b[43margs\u001b[49m\u001b[43m,\u001b[49m\u001b[43m \u001b[49m\u001b[38;5;241;43m*\u001b[39;49m\u001b[38;5;241;43m*\u001b[39;49m\u001b[43mkwargs\u001b[49m\u001b[43m)\u001b[49m\n",
      "File \u001b[0;32m~/miniconda3/envs/df_env/lib/python3.10/site-packages/torch/nn/modules/module.py:1527\u001b[0m, in \u001b[0;36mModule._call_impl\u001b[0;34m(self, *args, **kwargs)\u001b[0m\n\u001b[1;32m   1522\u001b[0m \u001b[38;5;66;03m# If we don't have any hooks, we want to skip the rest of the logic in\u001b[39;00m\n\u001b[1;32m   1523\u001b[0m \u001b[38;5;66;03m# this function, and just call forward.\u001b[39;00m\n\u001b[1;32m   1524\u001b[0m \u001b[38;5;28;01mif\u001b[39;00m \u001b[38;5;129;01mnot\u001b[39;00m (\u001b[38;5;28mself\u001b[39m\u001b[38;5;241m.\u001b[39m_backward_hooks \u001b[38;5;129;01mor\u001b[39;00m \u001b[38;5;28mself\u001b[39m\u001b[38;5;241m.\u001b[39m_backward_pre_hooks \u001b[38;5;129;01mor\u001b[39;00m \u001b[38;5;28mself\u001b[39m\u001b[38;5;241m.\u001b[39m_forward_hooks \u001b[38;5;129;01mor\u001b[39;00m \u001b[38;5;28mself\u001b[39m\u001b[38;5;241m.\u001b[39m_forward_pre_hooks\n\u001b[1;32m   1525\u001b[0m         \u001b[38;5;129;01mor\u001b[39;00m _global_backward_pre_hooks \u001b[38;5;129;01mor\u001b[39;00m _global_backward_hooks\n\u001b[1;32m   1526\u001b[0m         \u001b[38;5;129;01mor\u001b[39;00m _global_forward_hooks \u001b[38;5;129;01mor\u001b[39;00m _global_forward_pre_hooks):\n\u001b[0;32m-> 1527\u001b[0m     \u001b[38;5;28;01mreturn\u001b[39;00m \u001b[43mforward_call\u001b[49m\u001b[43m(\u001b[49m\u001b[38;5;241;43m*\u001b[39;49m\u001b[43margs\u001b[49m\u001b[43m,\u001b[49m\u001b[43m \u001b[49m\u001b[38;5;241;43m*\u001b[39;49m\u001b[38;5;241;43m*\u001b[39;49m\u001b[43mkwargs\u001b[49m\u001b[43m)\u001b[49m\n\u001b[1;32m   1529\u001b[0m \u001b[38;5;28;01mtry\u001b[39;00m:\n\u001b[1;32m   1530\u001b[0m     result \u001b[38;5;241m=\u001b[39m \u001b[38;5;28;01mNone\u001b[39;00m\n",
      "File \u001b[0;32m~/Desktop/Digital Futures/synthetic-anomaly-generation/static-modelling/static_model.py:44\u001b[0m, in \u001b[0;36mNet.forward\u001b[0;34m(self, x)\u001b[0m\n\u001b[1;32m     40\u001b[0m \u001b[38;5;28;01mdef\u001b[39;00m\u001b[38;5;250m \u001b[39m\u001b[38;5;21mforward\u001b[39m(\u001b[38;5;28mself\u001b[39m, x):\n\u001b[1;32m     42\u001b[0m     \u001b[38;5;28;01mfor\u001b[39;00m linear \u001b[38;5;129;01min\u001b[39;00m \u001b[38;5;28mself\u001b[39m\u001b[38;5;241m.\u001b[39mlinears[:\u001b[38;5;241m-\u001b[39m\u001b[38;5;241m1\u001b[39m]:\n\u001b[0;32m---> 44\u001b[0m         x \u001b[38;5;241m=\u001b[39m \u001b[38;5;28mself\u001b[39m\u001b[38;5;241m.\u001b[39mactivation(\u001b[43mlinear\u001b[49m\u001b[43m(\u001b[49m\u001b[43mx\u001b[49m\u001b[43m)\u001b[49m)\n\u001b[1;32m     45\u001b[0m     x \u001b[38;5;241m=\u001b[39m \u001b[38;5;28mself\u001b[39m\u001b[38;5;241m.\u001b[39mlinears[\u001b[38;5;241m-\u001b[39m\u001b[38;5;241m1\u001b[39m](x)\n\u001b[1;32m     46\u001b[0m     \u001b[38;5;28;01mif\u001b[39;00m \u001b[38;5;28mself\u001b[39m\u001b[38;5;241m.\u001b[39mpositive:\n",
      "File \u001b[0;32m~/miniconda3/envs/df_env/lib/python3.10/site-packages/torch/nn/modules/module.py:1518\u001b[0m, in \u001b[0;36mModule._wrapped_call_impl\u001b[0;34m(self, *args, **kwargs)\u001b[0m\n\u001b[1;32m   1516\u001b[0m     \u001b[38;5;28;01mreturn\u001b[39;00m \u001b[38;5;28mself\u001b[39m\u001b[38;5;241m.\u001b[39m_compiled_call_impl(\u001b[38;5;241m*\u001b[39margs, \u001b[38;5;241m*\u001b[39m\u001b[38;5;241m*\u001b[39mkwargs)  \u001b[38;5;66;03m# type: ignore[misc]\u001b[39;00m\n\u001b[1;32m   1517\u001b[0m \u001b[38;5;28;01melse\u001b[39;00m:\n\u001b[0;32m-> 1518\u001b[0m     \u001b[38;5;28;01mreturn\u001b[39;00m \u001b[38;5;28;43mself\u001b[39;49m\u001b[38;5;241;43m.\u001b[39;49m\u001b[43m_call_impl\u001b[49m\u001b[43m(\u001b[49m\u001b[38;5;241;43m*\u001b[39;49m\u001b[43margs\u001b[49m\u001b[43m,\u001b[49m\u001b[43m \u001b[49m\u001b[38;5;241;43m*\u001b[39;49m\u001b[38;5;241;43m*\u001b[39;49m\u001b[43mkwargs\u001b[49m\u001b[43m)\u001b[49m\n",
      "File \u001b[0;32m~/miniconda3/envs/df_env/lib/python3.10/site-packages/torch/nn/modules/module.py:1527\u001b[0m, in \u001b[0;36mModule._call_impl\u001b[0;34m(self, *args, **kwargs)\u001b[0m\n\u001b[1;32m   1522\u001b[0m \u001b[38;5;66;03m# If we don't have any hooks, we want to skip the rest of the logic in\u001b[39;00m\n\u001b[1;32m   1523\u001b[0m \u001b[38;5;66;03m# this function, and just call forward.\u001b[39;00m\n\u001b[1;32m   1524\u001b[0m \u001b[38;5;28;01mif\u001b[39;00m \u001b[38;5;129;01mnot\u001b[39;00m (\u001b[38;5;28mself\u001b[39m\u001b[38;5;241m.\u001b[39m_backward_hooks \u001b[38;5;129;01mor\u001b[39;00m \u001b[38;5;28mself\u001b[39m\u001b[38;5;241m.\u001b[39m_backward_pre_hooks \u001b[38;5;129;01mor\u001b[39;00m \u001b[38;5;28mself\u001b[39m\u001b[38;5;241m.\u001b[39m_forward_hooks \u001b[38;5;129;01mor\u001b[39;00m \u001b[38;5;28mself\u001b[39m\u001b[38;5;241m.\u001b[39m_forward_pre_hooks\n\u001b[1;32m   1525\u001b[0m         \u001b[38;5;129;01mor\u001b[39;00m _global_backward_pre_hooks \u001b[38;5;129;01mor\u001b[39;00m _global_backward_hooks\n\u001b[1;32m   1526\u001b[0m         \u001b[38;5;129;01mor\u001b[39;00m _global_forward_hooks \u001b[38;5;129;01mor\u001b[39;00m _global_forward_pre_hooks):\n\u001b[0;32m-> 1527\u001b[0m     \u001b[38;5;28;01mreturn\u001b[39;00m \u001b[43mforward_call\u001b[49m\u001b[43m(\u001b[49m\u001b[38;5;241;43m*\u001b[39;49m\u001b[43margs\u001b[49m\u001b[43m,\u001b[49m\u001b[43m \u001b[49m\u001b[38;5;241;43m*\u001b[39;49m\u001b[38;5;241;43m*\u001b[39;49m\u001b[43mkwargs\u001b[49m\u001b[43m)\u001b[49m\n\u001b[1;32m   1529\u001b[0m \u001b[38;5;28;01mtry\u001b[39;00m:\n\u001b[1;32m   1530\u001b[0m     result \u001b[38;5;241m=\u001b[39m \u001b[38;5;28;01mNone\u001b[39;00m\n",
      "File \u001b[0;32m~/miniconda3/envs/df_env/lib/python3.10/site-packages/torch/nn/modules/linear.py:114\u001b[0m, in \u001b[0;36mLinear.forward\u001b[0;34m(self, input)\u001b[0m\n\u001b[1;32m    113\u001b[0m \u001b[38;5;28;01mdef\u001b[39;00m\u001b[38;5;250m \u001b[39m\u001b[38;5;21mforward\u001b[39m(\u001b[38;5;28mself\u001b[39m, \u001b[38;5;28minput\u001b[39m: Tensor) \u001b[38;5;241m-\u001b[39m\u001b[38;5;241m>\u001b[39m Tensor:\n\u001b[0;32m--> 114\u001b[0m     \u001b[38;5;28;01mreturn\u001b[39;00m \u001b[43mF\u001b[49m\u001b[38;5;241;43m.\u001b[39;49m\u001b[43mlinear\u001b[49m\u001b[43m(\u001b[49m\u001b[38;5;28;43minput\u001b[39;49m\u001b[43m,\u001b[49m\u001b[43m \u001b[49m\u001b[38;5;28;43mself\u001b[39;49m\u001b[38;5;241;43m.\u001b[39;49m\u001b[43mweight\u001b[49m\u001b[43m,\u001b[49m\u001b[43m \u001b[49m\u001b[38;5;28;43mself\u001b[39;49m\u001b[38;5;241;43m.\u001b[39;49m\u001b[43mbias\u001b[49m\u001b[43m)\u001b[49m\n",
      "\u001b[0;31mRuntimeError\u001b[0m: mat1 and mat2 shapes cannot be multiplied (10x1 and 2x200)"
     ]
    }
   ],
   "source": [
    "A = torch.linspace(0, leak_areas.max(), 10).reshape(-1, 1)\n",
    "H = model.net(A)  # Predicted pressure at JUNCTION-0\n",
    "\n",
    "A = A.detach()\n",
    "\n",
    "plt.plot(leak_areas, H.detach().flatten(), label='pred')\n",
    "plt.plot(leak_areas, pressure_values, label='true')\n",
    "plt.legend()\n",
    "plt.show()"
   ]
  },
  {
   "cell_type": "code",
   "execution_count": null,
   "id": "1a44a937",
   "metadata": {},
   "outputs": [
    {
     "name": "stdout",
     "output_type": "stream",
     "text": [
      "torch.Size([10, 1])\n"
     ]
    },
    {
     "data": {
      "image/png": "[encoded data removed]",
      "text/plain": [
       "<Figure size 640x480 with 1 Axes>"
      ]
     },
     "metadata": {},
     "output_type": "display_data"
    }
   ],
   "source": [
    "hL = B @ S - model.mv(A0.T, H)\n",
    "print(H.shape)\n",
    "\n",
    "\n",
    "q = torch.sign(hL) * (torch.abs(hL) * C**(1.852) * d**(4.871) / 10.667 / L)**(1 / 1.852)\n",
    "\n",
    "plt.plot(leak_areas, q.detach().flatten(), label='pred')\n",
    "plt.plot(leak_areas, flow_values, label='true')\n",
    "plt.legend()\n",
    "plt.show()"
   ]
  }
 ],
 "metadata": {
  "kernelspec": {
   "display_name": "df_env",
   "language": "python",
   "name": "python3"
  },
  "language_info": {
   "codemirror_mode": {
    "name": "ipython",
    "version": 3
   },
   "file_extension": ".py",
   "mimetype": "text/x-python",
   "name": "python",
   "nbconvert_exporter": "python",
   "pygments_lexer": "ipython3",
   "version": "3.10.18"
  }
 },
 "nbformat": 4,
 "nbformat_minor": 5
}
